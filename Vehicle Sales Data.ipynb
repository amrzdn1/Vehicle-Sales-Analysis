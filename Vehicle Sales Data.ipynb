{
 "cells": [
  {
   "cell_type": "code",
   "execution_count": 1,
   "id": "1a0391df",
   "metadata": {},
   "outputs": [],
   "source": [
    "import pandas as pd\n",
    "import numpy as np\n",
    "import matplotlib.pyplot as plt\n",
    "import seaborn as sns"
   ]
  },
  {
   "cell_type": "code",
   "execution_count": 2,
   "id": "35fcdba0",
   "metadata": {},
   "outputs": [
    {
     "data": {
      "text/html": [
       "<div>\n",
       "<style scoped>\n",
       "    .dataframe tbody tr th:only-of-type {\n",
       "        vertical-align: middle;\n",
       "    }\n",
       "\n",
       "    .dataframe tbody tr th {\n",
       "        vertical-align: top;\n",
       "    }\n",
       "\n",
       "    .dataframe thead th {\n",
       "        text-align: right;\n",
       "    }\n",
       "</style>\n",
       "<table border=\"1\" class=\"dataframe\">\n",
       "  <thead>\n",
       "    <tr style=\"text-align: right;\">\n",
       "      <th></th>\n",
       "      <th>year</th>\n",
       "      <th>make</th>\n",
       "      <th>model</th>\n",
       "      <th>trim</th>\n",
       "      <th>body</th>\n",
       "      <th>transmission</th>\n",
       "      <th>vin</th>\n",
       "      <th>state</th>\n",
       "      <th>condition</th>\n",
       "      <th>odometer</th>\n",
       "      <th>color</th>\n",
       "      <th>interior</th>\n",
       "      <th>seller</th>\n",
       "      <th>mmr</th>\n",
       "      <th>sellingprice</th>\n",
       "      <th>saledate</th>\n",
       "    </tr>\n",
       "  </thead>\n",
       "  <tbody>\n",
       "    <tr>\n",
       "      <th>0</th>\n",
       "      <td>2015</td>\n",
       "      <td>Kia</td>\n",
       "      <td>Sorento</td>\n",
       "      <td>LX</td>\n",
       "      <td>SUV</td>\n",
       "      <td>automatic</td>\n",
       "      <td>5xyktca69fg566472</td>\n",
       "      <td>ca</td>\n",
       "      <td>5.0</td>\n",
       "      <td>16639.0</td>\n",
       "      <td>white</td>\n",
       "      <td>black</td>\n",
       "      <td>kia motors america  inc</td>\n",
       "      <td>20500.0</td>\n",
       "      <td>21500.0</td>\n",
       "      <td>Tue Dec 16 2014 12:30:00 GMT-0800 (PST)</td>\n",
       "    </tr>\n",
       "    <tr>\n",
       "      <th>1</th>\n",
       "      <td>2015</td>\n",
       "      <td>Kia</td>\n",
       "      <td>Sorento</td>\n",
       "      <td>LX</td>\n",
       "      <td>SUV</td>\n",
       "      <td>automatic</td>\n",
       "      <td>5xyktca69fg561319</td>\n",
       "      <td>ca</td>\n",
       "      <td>5.0</td>\n",
       "      <td>9393.0</td>\n",
       "      <td>white</td>\n",
       "      <td>beige</td>\n",
       "      <td>kia motors america  inc</td>\n",
       "      <td>20800.0</td>\n",
       "      <td>21500.0</td>\n",
       "      <td>Tue Dec 16 2014 12:30:00 GMT-0800 (PST)</td>\n",
       "    </tr>\n",
       "    <tr>\n",
       "      <th>2</th>\n",
       "      <td>2014</td>\n",
       "      <td>BMW</td>\n",
       "      <td>3 Series</td>\n",
       "      <td>328i SULEV</td>\n",
       "      <td>Sedan</td>\n",
       "      <td>automatic</td>\n",
       "      <td>wba3c1c51ek116351</td>\n",
       "      <td>ca</td>\n",
       "      <td>45.0</td>\n",
       "      <td>1331.0</td>\n",
       "      <td>gray</td>\n",
       "      <td>black</td>\n",
       "      <td>financial services remarketing (lease)</td>\n",
       "      <td>31900.0</td>\n",
       "      <td>30000.0</td>\n",
       "      <td>Thu Jan 15 2015 04:30:00 GMT-0800 (PST)</td>\n",
       "    </tr>\n",
       "    <tr>\n",
       "      <th>3</th>\n",
       "      <td>2015</td>\n",
       "      <td>Volvo</td>\n",
       "      <td>S60</td>\n",
       "      <td>T5</td>\n",
       "      <td>Sedan</td>\n",
       "      <td>automatic</td>\n",
       "      <td>yv1612tb4f1310987</td>\n",
       "      <td>ca</td>\n",
       "      <td>41.0</td>\n",
       "      <td>14282.0</td>\n",
       "      <td>white</td>\n",
       "      <td>black</td>\n",
       "      <td>volvo na rep/world omni</td>\n",
       "      <td>27500.0</td>\n",
       "      <td>27750.0</td>\n",
       "      <td>Thu Jan 29 2015 04:30:00 GMT-0800 (PST)</td>\n",
       "    </tr>\n",
       "    <tr>\n",
       "      <th>4</th>\n",
       "      <td>2014</td>\n",
       "      <td>BMW</td>\n",
       "      <td>6 Series Gran Coupe</td>\n",
       "      <td>650i</td>\n",
       "      <td>Sedan</td>\n",
       "      <td>automatic</td>\n",
       "      <td>wba6b2c57ed129731</td>\n",
       "      <td>ca</td>\n",
       "      <td>43.0</td>\n",
       "      <td>2641.0</td>\n",
       "      <td>gray</td>\n",
       "      <td>black</td>\n",
       "      <td>financial services remarketing (lease)</td>\n",
       "      <td>66000.0</td>\n",
       "      <td>67000.0</td>\n",
       "      <td>Thu Dec 18 2014 12:30:00 GMT-0800 (PST)</td>\n",
       "    </tr>\n",
       "    <tr>\n",
       "      <th>...</th>\n",
       "      <td>...</td>\n",
       "      <td>...</td>\n",
       "      <td>...</td>\n",
       "      <td>...</td>\n",
       "      <td>...</td>\n",
       "      <td>...</td>\n",
       "      <td>...</td>\n",
       "      <td>...</td>\n",
       "      <td>...</td>\n",
       "      <td>...</td>\n",
       "      <td>...</td>\n",
       "      <td>...</td>\n",
       "      <td>...</td>\n",
       "      <td>...</td>\n",
       "      <td>...</td>\n",
       "      <td>...</td>\n",
       "    </tr>\n",
       "    <tr>\n",
       "      <th>558832</th>\n",
       "      <td>2015</td>\n",
       "      <td>Kia</td>\n",
       "      <td>K900</td>\n",
       "      <td>Luxury</td>\n",
       "      <td>Sedan</td>\n",
       "      <td>NaN</td>\n",
       "      <td>knalw4d4xf6019304</td>\n",
       "      <td>in</td>\n",
       "      <td>45.0</td>\n",
       "      <td>18255.0</td>\n",
       "      <td>silver</td>\n",
       "      <td>black</td>\n",
       "      <td>avis corporation</td>\n",
       "      <td>35300.0</td>\n",
       "      <td>33000.0</td>\n",
       "      <td>Thu Jul 09 2015 07:00:00 GMT-0700 (PDT)</td>\n",
       "    </tr>\n",
       "    <tr>\n",
       "      <th>558833</th>\n",
       "      <td>2012</td>\n",
       "      <td>Ram</td>\n",
       "      <td>2500</td>\n",
       "      <td>Power Wagon</td>\n",
       "      <td>Crew Cab</td>\n",
       "      <td>automatic</td>\n",
       "      <td>3c6td5et6cg112407</td>\n",
       "      <td>wa</td>\n",
       "      <td>5.0</td>\n",
       "      <td>54393.0</td>\n",
       "      <td>white</td>\n",
       "      <td>black</td>\n",
       "      <td>i -5 uhlmann rv</td>\n",
       "      <td>30200.0</td>\n",
       "      <td>30800.0</td>\n",
       "      <td>Wed Jul 08 2015 09:30:00 GMT-0700 (PDT)</td>\n",
       "    </tr>\n",
       "    <tr>\n",
       "      <th>558834</th>\n",
       "      <td>2012</td>\n",
       "      <td>BMW</td>\n",
       "      <td>X5</td>\n",
       "      <td>xDrive35d</td>\n",
       "      <td>SUV</td>\n",
       "      <td>automatic</td>\n",
       "      <td>5uxzw0c58cl668465</td>\n",
       "      <td>ca</td>\n",
       "      <td>48.0</td>\n",
       "      <td>50561.0</td>\n",
       "      <td>black</td>\n",
       "      <td>black</td>\n",
       "      <td>financial services remarketing (lease)</td>\n",
       "      <td>29800.0</td>\n",
       "      <td>34000.0</td>\n",
       "      <td>Wed Jul 08 2015 09:30:00 GMT-0700 (PDT)</td>\n",
       "    </tr>\n",
       "    <tr>\n",
       "      <th>558835</th>\n",
       "      <td>2015</td>\n",
       "      <td>Nissan</td>\n",
       "      <td>Altima</td>\n",
       "      <td>2.5 S</td>\n",
       "      <td>sedan</td>\n",
       "      <td>automatic</td>\n",
       "      <td>1n4al3ap0fc216050</td>\n",
       "      <td>ga</td>\n",
       "      <td>38.0</td>\n",
       "      <td>16658.0</td>\n",
       "      <td>white</td>\n",
       "      <td>black</td>\n",
       "      <td>enterprise vehicle exchange / tra / rental / t...</td>\n",
       "      <td>15100.0</td>\n",
       "      <td>11100.0</td>\n",
       "      <td>Thu Jul 09 2015 06:45:00 GMT-0700 (PDT)</td>\n",
       "    </tr>\n",
       "    <tr>\n",
       "      <th>558836</th>\n",
       "      <td>2014</td>\n",
       "      <td>Ford</td>\n",
       "      <td>F-150</td>\n",
       "      <td>XLT</td>\n",
       "      <td>SuperCrew</td>\n",
       "      <td>automatic</td>\n",
       "      <td>1ftfw1et2eke87277</td>\n",
       "      <td>ca</td>\n",
       "      <td>34.0</td>\n",
       "      <td>15008.0</td>\n",
       "      <td>gray</td>\n",
       "      <td>gray</td>\n",
       "      <td>ford motor credit company llc pd</td>\n",
       "      <td>29600.0</td>\n",
       "      <td>26700.0</td>\n",
       "      <td>Thu May 28 2015 05:30:00 GMT-0700 (PDT)</td>\n",
       "    </tr>\n",
       "  </tbody>\n",
       "</table>\n",
       "<p>558837 rows × 16 columns</p>\n",
       "</div>"
      ],
      "text/plain": [
       "        year    make                model         trim       body   \n",
       "0       2015     Kia              Sorento           LX        SUV  \\\n",
       "1       2015     Kia              Sorento           LX        SUV   \n",
       "2       2014     BMW             3 Series   328i SULEV      Sedan   \n",
       "3       2015   Volvo                  S60           T5      Sedan   \n",
       "4       2014     BMW  6 Series Gran Coupe         650i      Sedan   \n",
       "...      ...     ...                  ...          ...        ...   \n",
       "558832  2015     Kia                 K900       Luxury      Sedan   \n",
       "558833  2012     Ram                 2500  Power Wagon   Crew Cab   \n",
       "558834  2012     BMW                   X5    xDrive35d        SUV   \n",
       "558835  2015  Nissan               Altima        2.5 S      sedan   \n",
       "558836  2014    Ford                F-150          XLT  SuperCrew   \n",
       "\n",
       "       transmission                vin state  condition  odometer   color   \n",
       "0         automatic  5xyktca69fg566472    ca        5.0   16639.0   white  \\\n",
       "1         automatic  5xyktca69fg561319    ca        5.0    9393.0   white   \n",
       "2         automatic  wba3c1c51ek116351    ca       45.0    1331.0    gray   \n",
       "3         automatic  yv1612tb4f1310987    ca       41.0   14282.0   white   \n",
       "4         automatic  wba6b2c57ed129731    ca       43.0    2641.0    gray   \n",
       "...             ...                ...   ...        ...       ...     ...   \n",
       "558832          NaN  knalw4d4xf6019304    in       45.0   18255.0  silver   \n",
       "558833    automatic  3c6td5et6cg112407    wa        5.0   54393.0   white   \n",
       "558834    automatic  5uxzw0c58cl668465    ca       48.0   50561.0   black   \n",
       "558835    automatic  1n4al3ap0fc216050    ga       38.0   16658.0   white   \n",
       "558836    automatic  1ftfw1et2eke87277    ca       34.0   15008.0    gray   \n",
       "\n",
       "       interior                                             seller      mmr   \n",
       "0         black                            kia motors america  inc  20500.0  \\\n",
       "1         beige                            kia motors america  inc  20800.0   \n",
       "2         black             financial services remarketing (lease)  31900.0   \n",
       "3         black                            volvo na rep/world omni  27500.0   \n",
       "4         black             financial services remarketing (lease)  66000.0   \n",
       "...         ...                                                ...      ...   \n",
       "558832    black                                   avis corporation  35300.0   \n",
       "558833    black                                    i -5 uhlmann rv  30200.0   \n",
       "558834    black             financial services remarketing (lease)  29800.0   \n",
       "558835    black  enterprise vehicle exchange / tra / rental / t...  15100.0   \n",
       "558836     gray                   ford motor credit company llc pd  29600.0   \n",
       "\n",
       "        sellingprice                                 saledate  \n",
       "0            21500.0  Tue Dec 16 2014 12:30:00 GMT-0800 (PST)  \n",
       "1            21500.0  Tue Dec 16 2014 12:30:00 GMT-0800 (PST)  \n",
       "2            30000.0  Thu Jan 15 2015 04:30:00 GMT-0800 (PST)  \n",
       "3            27750.0  Thu Jan 29 2015 04:30:00 GMT-0800 (PST)  \n",
       "4            67000.0  Thu Dec 18 2014 12:30:00 GMT-0800 (PST)  \n",
       "...              ...                                      ...  \n",
       "558832       33000.0  Thu Jul 09 2015 07:00:00 GMT-0700 (PDT)  \n",
       "558833       30800.0  Wed Jul 08 2015 09:30:00 GMT-0700 (PDT)  \n",
       "558834       34000.0  Wed Jul 08 2015 09:30:00 GMT-0700 (PDT)  \n",
       "558835       11100.0  Thu Jul 09 2015 06:45:00 GMT-0700 (PDT)  \n",
       "558836       26700.0  Thu May 28 2015 05:30:00 GMT-0700 (PDT)  \n",
       "\n",
       "[558837 rows x 16 columns]"
      ]
     },
     "execution_count": 2,
     "metadata": {},
     "output_type": "execute_result"
    }
   ],
   "source": [
    "Data=pd.read_csv(\"D:/Data/Prolem Solving/Vehicle Sales Data/car_prices.csv\")\n",
    "Data"
   ]
  },
  {
   "cell_type": "code",
   "execution_count": 3,
   "id": "e5c8591b",
   "metadata": {},
   "outputs": [
    {
     "data": {
      "text/html": [
       "<div>\n",
       "<style scoped>\n",
       "    .dataframe tbody tr th:only-of-type {\n",
       "        vertical-align: middle;\n",
       "    }\n",
       "\n",
       "    .dataframe tbody tr th {\n",
       "        vertical-align: top;\n",
       "    }\n",
       "\n",
       "    .dataframe thead th {\n",
       "        text-align: right;\n",
       "    }\n",
       "</style>\n",
       "<table border=\"1\" class=\"dataframe\">\n",
       "  <thead>\n",
       "    <tr style=\"text-align: right;\">\n",
       "      <th></th>\n",
       "      <th>year</th>\n",
       "      <th>make</th>\n",
       "      <th>model</th>\n",
       "      <th>trim</th>\n",
       "      <th>body</th>\n",
       "      <th>transmission</th>\n",
       "      <th>vin</th>\n",
       "      <th>state</th>\n",
       "      <th>condition</th>\n",
       "      <th>odometer</th>\n",
       "      <th>color</th>\n",
       "      <th>interior</th>\n",
       "      <th>seller</th>\n",
       "      <th>mmr</th>\n",
       "      <th>sellingprice</th>\n",
       "      <th>saledate</th>\n",
       "    </tr>\n",
       "  </thead>\n",
       "  <tbody>\n",
       "    <tr>\n",
       "      <th>432244</th>\n",
       "      <td>2012</td>\n",
       "      <td>Honda</td>\n",
       "      <td>Accord</td>\n",
       "      <td>EX-L</td>\n",
       "      <td>Sedan</td>\n",
       "      <td>automatic</td>\n",
       "      <td>1hgcp2f82ca091693</td>\n",
       "      <td>pa</td>\n",
       "      <td>39.0</td>\n",
       "      <td>53992.0</td>\n",
       "      <td>red</td>\n",
       "      <td>beige</td>\n",
       "      <td>ahfc/honda lease trust/hvt  inc. eot</td>\n",
       "      <td>13750.0</td>\n",
       "      <td>14200.0</td>\n",
       "      <td>Fri May 22 2015 02:00:00 GMT-0700 (PDT)</td>\n",
       "    </tr>\n",
       "    <tr>\n",
       "      <th>359463</th>\n",
       "      <td>2011</td>\n",
       "      <td>Nissan</td>\n",
       "      <td>Maxima</td>\n",
       "      <td>3.5 SV</td>\n",
       "      <td>Sedan</td>\n",
       "      <td>automatic</td>\n",
       "      <td>1n4aa5ap0bc847988</td>\n",
       "      <td>il</td>\n",
       "      <td>39.0</td>\n",
       "      <td>34415.0</td>\n",
       "      <td>blue</td>\n",
       "      <td>black</td>\n",
       "      <td>nissan-infiniti lt</td>\n",
       "      <td>16850.0</td>\n",
       "      <td>16100.0</td>\n",
       "      <td>Thu Feb 26 2015 02:00:00 GMT-0800 (PST)</td>\n",
       "    </tr>\n",
       "    <tr>\n",
       "      <th>547357</th>\n",
       "      <td>2014</td>\n",
       "      <td>Jeep</td>\n",
       "      <td>Wrangler</td>\n",
       "      <td>Unlimited Sahara</td>\n",
       "      <td>suv</td>\n",
       "      <td>automatic</td>\n",
       "      <td>1c4bjweg7el326317</td>\n",
       "      <td>tn</td>\n",
       "      <td>5.0</td>\n",
       "      <td>23619.0</td>\n",
       "      <td>—</td>\n",
       "      <td>black</td>\n",
       "      <td>wholesale inc # 2</td>\n",
       "      <td>30700.0</td>\n",
       "      <td>30500.0</td>\n",
       "      <td>Wed Jun 17 2015 03:30:00 GMT-0700 (PDT)</td>\n",
       "    </tr>\n",
       "    <tr>\n",
       "      <th>297767</th>\n",
       "      <td>2005</td>\n",
       "      <td>Ford</td>\n",
       "      <td>Explorer</td>\n",
       "      <td>XLT</td>\n",
       "      <td>SUV</td>\n",
       "      <td>automatic</td>\n",
       "      <td>1fmzu63e75ub37762</td>\n",
       "      <td>nv</td>\n",
       "      <td>19.0</td>\n",
       "      <td>117052.0</td>\n",
       "      <td>blue</td>\n",
       "      <td>gray</td>\n",
       "      <td>westlake financial services</td>\n",
       "      <td>3775.0</td>\n",
       "      <td>2600.0</td>\n",
       "      <td>Fri Feb 13 2015 04:00:00 GMT-0800 (PST)</td>\n",
       "    </tr>\n",
       "    <tr>\n",
       "      <th>273042</th>\n",
       "      <td>2013</td>\n",
       "      <td>Honda</td>\n",
       "      <td>Accord</td>\n",
       "      <td>LX</td>\n",
       "      <td>Sedan</td>\n",
       "      <td>automatic</td>\n",
       "      <td>1hgcr2f37da258758</td>\n",
       "      <td>ca</td>\n",
       "      <td>43.0</td>\n",
       "      <td>24499.0</td>\n",
       "      <td>gray</td>\n",
       "      <td>black</td>\n",
       "      <td>ahfc/honda lease trust/hvt  inc.</td>\n",
       "      <td>15800.0</td>\n",
       "      <td>18100.0</td>\n",
       "      <td>Thu Feb 12 2015 04:00:00 GMT-0800 (PST)</td>\n",
       "    </tr>\n",
       "  </tbody>\n",
       "</table>\n",
       "</div>"
      ],
      "text/plain": [
       "        year    make     model              trim   body transmission   \n",
       "432244  2012   Honda    Accord              EX-L  Sedan    automatic  \\\n",
       "359463  2011  Nissan    Maxima            3.5 SV  Sedan    automatic   \n",
       "547357  2014    Jeep  Wrangler  Unlimited Sahara    suv    automatic   \n",
       "297767  2005    Ford  Explorer               XLT    SUV    automatic   \n",
       "273042  2013   Honda    Accord                LX  Sedan    automatic   \n",
       "\n",
       "                      vin state  condition  odometer color interior   \n",
       "432244  1hgcp2f82ca091693    pa       39.0   53992.0   red    beige  \\\n",
       "359463  1n4aa5ap0bc847988    il       39.0   34415.0  blue    black   \n",
       "547357  1c4bjweg7el326317    tn        5.0   23619.0     —    black   \n",
       "297767  1fmzu63e75ub37762    nv       19.0  117052.0  blue     gray   \n",
       "273042  1hgcr2f37da258758    ca       43.0   24499.0  gray    black   \n",
       "\n",
       "                                      seller      mmr  sellingprice   \n",
       "432244  ahfc/honda lease trust/hvt  inc. eot  13750.0       14200.0  \\\n",
       "359463                    nissan-infiniti lt  16850.0       16100.0   \n",
       "547357                     wholesale inc # 2  30700.0       30500.0   \n",
       "297767           westlake financial services   3775.0        2600.0   \n",
       "273042      ahfc/honda lease trust/hvt  inc.  15800.0       18100.0   \n",
       "\n",
       "                                       saledate  \n",
       "432244  Fri May 22 2015 02:00:00 GMT-0700 (PDT)  \n",
       "359463  Thu Feb 26 2015 02:00:00 GMT-0800 (PST)  \n",
       "547357  Wed Jun 17 2015 03:30:00 GMT-0700 (PDT)  \n",
       "297767  Fri Feb 13 2015 04:00:00 GMT-0800 (PST)  \n",
       "273042  Thu Feb 12 2015 04:00:00 GMT-0800 (PST)  "
      ]
     },
     "execution_count": 3,
     "metadata": {},
     "output_type": "execute_result"
    }
   ],
   "source": [
    "df=Data.copy()\n",
    "df.sample(5)"
   ]
  },
  {
   "cell_type": "code",
   "execution_count": 4,
   "id": "b8a5d499",
   "metadata": {},
   "outputs": [
    {
     "data": {
      "text/plain": [
       "year              int64\n",
       "make             object\n",
       "model            object\n",
       "trim             object\n",
       "body             object\n",
       "transmission     object\n",
       "vin              object\n",
       "state            object\n",
       "condition       float64\n",
       "odometer        float64\n",
       "color            object\n",
       "interior         object\n",
       "seller           object\n",
       "mmr             float64\n",
       "sellingprice    float64\n",
       "saledate         object\n",
       "dtype: object"
      ]
     },
     "execution_count": 4,
     "metadata": {},
     "output_type": "execute_result"
    }
   ],
   "source": [
    "df.dtypes"
   ]
  },
  {
   "cell_type": "code",
   "execution_count": 5,
   "id": "0a4fd3be",
   "metadata": {},
   "outputs": [
    {
     "data": {
      "text/plain": [
       "year                0\n",
       "make            10301\n",
       "model           10399\n",
       "trim            10651\n",
       "body            13195\n",
       "transmission    65352\n",
       "vin                 4\n",
       "state               0\n",
       "condition       11820\n",
       "odometer           94\n",
       "color             749\n",
       "interior          749\n",
       "seller              0\n",
       "mmr                38\n",
       "sellingprice       12\n",
       "saledate           12\n",
       "dtype: int64"
      ]
     },
     "execution_count": 5,
     "metadata": {},
     "output_type": "execute_result"
    }
   ],
   "source": [
    "df.isnull().sum()"
   ]
  },
  {
   "cell_type": "code",
   "execution_count": 6,
   "id": "91e3b3a2",
   "metadata": {},
   "outputs": [
    {
     "data": {
      "text/plain": [
       "(558837, 16)"
      ]
     },
     "execution_count": 6,
     "metadata": {},
     "output_type": "execute_result"
    }
   ],
   "source": [
    "df.shape"
   ]
  },
  {
   "cell_type": "code",
   "execution_count": 7,
   "id": "923ffac7",
   "metadata": {},
   "outputs": [
    {
     "name": "stdout",
     "output_type": "stream",
     "text": [
      "<class 'pandas.core.frame.DataFrame'>\n",
      "RangeIndex: 558837 entries, 0 to 558836\n",
      "Data columns (total 16 columns):\n",
      " #   Column        Non-Null Count   Dtype  \n",
      "---  ------        --------------   -----  \n",
      " 0   year          558837 non-null  int64  \n",
      " 1   make          548536 non-null  object \n",
      " 2   model         548438 non-null  object \n",
      " 3   trim          548186 non-null  object \n",
      " 4   body          545642 non-null  object \n",
      " 5   transmission  493485 non-null  object \n",
      " 6   vin           558833 non-null  object \n",
      " 7   state         558837 non-null  object \n",
      " 8   condition     547017 non-null  float64\n",
      " 9   odometer      558743 non-null  float64\n",
      " 10  color         558088 non-null  object \n",
      " 11  interior      558088 non-null  object \n",
      " 12  seller        558837 non-null  object \n",
      " 13  mmr           558799 non-null  float64\n",
      " 14  sellingprice  558825 non-null  float64\n",
      " 15  saledate      558825 non-null  object \n",
      "dtypes: float64(4), int64(1), object(11)\n",
      "memory usage: 68.2+ MB\n"
     ]
    }
   ],
   "source": [
    "df.info()"
   ]
  },
  {
   "cell_type": "markdown",
   "id": "408fd73a",
   "metadata": {},
   "source": [
    "# Handling nulls"
   ]
  },
  {
   "cell_type": "code",
   "execution_count": 8,
   "id": "69f728f0",
   "metadata": {},
   "outputs": [
    {
     "data": {
      "text/plain": [
       "'Ford'"
      ]
     },
     "execution_count": 8,
     "metadata": {},
     "output_type": "execute_result"
    }
   ],
   "source": [
    "most_re=df[\"make\"].mode().loc[0]\n",
    "most_re"
   ]
  },
  {
   "cell_type": "code",
   "execution_count": 9,
   "id": "64af8add",
   "metadata": {},
   "outputs": [],
   "source": [
    "df['make']=df['make'].replace(np.nan,most_re)"
   ]
  },
  {
   "cell_type": "code",
   "execution_count": 10,
   "id": "53625971",
   "metadata": {},
   "outputs": [
    {
     "data": {
      "text/plain": [
       "0"
      ]
     },
     "execution_count": 10,
     "metadata": {},
     "output_type": "execute_result"
    }
   ],
   "source": [
    "df['make'].isnull().sum()"
   ]
  },
  {
   "cell_type": "code",
   "execution_count": 11,
   "id": "88c606e4",
   "metadata": {},
   "outputs": [
    {
     "data": {
      "text/plain": [
       "'Altima'"
      ]
     },
     "execution_count": 11,
     "metadata": {},
     "output_type": "execute_result"
    }
   ],
   "source": [
    "most_re=df['model'].mode().loc[0]\n",
    "most_re"
   ]
  },
  {
   "cell_type": "code",
   "execution_count": 12,
   "id": "8187e3cd",
   "metadata": {},
   "outputs": [],
   "source": [
    "df.dropna(subset='model',inplace=True)"
   ]
  },
  {
   "cell_type": "code",
   "execution_count": 13,
   "id": "9cd09ea5",
   "metadata": {},
   "outputs": [
    {
     "data": {
      "text/plain": [
       "year                0\n",
       "make                0\n",
       "model               0\n",
       "trim              350\n",
       "body             2894\n",
       "transmission    63585\n",
       "vin                 4\n",
       "state               0\n",
       "condition       11733\n",
       "odometer           90\n",
       "color             729\n",
       "interior          729\n",
       "seller              0\n",
       "mmr                38\n",
       "sellingprice       12\n",
       "saledate           12\n",
       "dtype: int64"
      ]
     },
     "execution_count": 13,
     "metadata": {},
     "output_type": "execute_result"
    }
   ],
   "source": [
    "df.isnull().sum()"
   ]
  },
  {
   "cell_type": "code",
   "execution_count": 14,
   "id": "3d171f2f",
   "metadata": {},
   "outputs": [],
   "source": [
    "df.drop('trim',axis=1,inplace=True)"
   ]
  },
  {
   "cell_type": "code",
   "execution_count": 15,
   "id": "d74aa8ec",
   "metadata": {},
   "outputs": [
    {
     "data": {
      "text/html": [
       "<div>\n",
       "<style scoped>\n",
       "    .dataframe tbody tr th:only-of-type {\n",
       "        vertical-align: middle;\n",
       "    }\n",
       "\n",
       "    .dataframe tbody tr th {\n",
       "        vertical-align: top;\n",
       "    }\n",
       "\n",
       "    .dataframe thead th {\n",
       "        text-align: right;\n",
       "    }\n",
       "</style>\n",
       "<table border=\"1\" class=\"dataframe\">\n",
       "  <thead>\n",
       "    <tr style=\"text-align: right;\">\n",
       "      <th></th>\n",
       "      <th>year</th>\n",
       "      <th>make</th>\n",
       "      <th>model</th>\n",
       "      <th>body</th>\n",
       "      <th>transmission</th>\n",
       "      <th>vin</th>\n",
       "      <th>state</th>\n",
       "      <th>condition</th>\n",
       "      <th>odometer</th>\n",
       "      <th>color</th>\n",
       "      <th>interior</th>\n",
       "      <th>seller</th>\n",
       "      <th>mmr</th>\n",
       "      <th>sellingprice</th>\n",
       "      <th>saledate</th>\n",
       "    </tr>\n",
       "  </thead>\n",
       "  <tbody>\n",
       "    <tr>\n",
       "      <th>426214</th>\n",
       "      <td>2014</td>\n",
       "      <td>Ford</td>\n",
       "      <td>Expedition</td>\n",
       "      <td>SUV</td>\n",
       "      <td>automatic</td>\n",
       "      <td>1fmju1k51eef46187</td>\n",
       "      <td>nv</td>\n",
       "      <td>49.0</td>\n",
       "      <td>15744.0</td>\n",
       "      <td>black</td>\n",
       "      <td>black</td>\n",
       "      <td>cali motors</td>\n",
       "      <td>35300.0</td>\n",
       "      <td>33000.0</td>\n",
       "      <td>Fri May 22 2015 05:00:00 GMT-0700 (PDT)</td>\n",
       "    </tr>\n",
       "    <tr>\n",
       "      <th>310033</th>\n",
       "      <td>2012</td>\n",
       "      <td>Nissan</td>\n",
       "      <td>Altima</td>\n",
       "      <td>Sedan</td>\n",
       "      <td>automatic</td>\n",
       "      <td>1n4al2ap5cc179860</td>\n",
       "      <td>fl</td>\n",
       "      <td>39.0</td>\n",
       "      <td>40401.0</td>\n",
       "      <td>blue</td>\n",
       "      <td>black</td>\n",
       "      <td>nissan-infiniti lt</td>\n",
       "      <td>11650.0</td>\n",
       "      <td>13600.0</td>\n",
       "      <td>Tue Feb 17 2015 01:30:00 GMT-0800 (PST)</td>\n",
       "    </tr>\n",
       "  </tbody>\n",
       "</table>\n",
       "</div>"
      ],
      "text/plain": [
       "        year    make       model   body transmission                vin state   \n",
       "426214  2014    Ford  Expedition    SUV    automatic  1fmju1k51eef46187    nv  \\\n",
       "310033  2012  Nissan      Altima  Sedan    automatic  1n4al2ap5cc179860    fl   \n",
       "\n",
       "        condition  odometer  color interior              seller      mmr   \n",
       "426214       49.0   15744.0  black    black         cali motors  35300.0  \\\n",
       "310033       39.0   40401.0   blue    black  nissan-infiniti lt  11650.0   \n",
       "\n",
       "        sellingprice                                 saledate  \n",
       "426214       33000.0  Fri May 22 2015 05:00:00 GMT-0700 (PDT)  \n",
       "310033       13600.0  Tue Feb 17 2015 01:30:00 GMT-0800 (PST)  "
      ]
     },
     "execution_count": 15,
     "metadata": {},
     "output_type": "execute_result"
    }
   ],
   "source": [
    "df.sample(2)"
   ]
  },
  {
   "cell_type": "code",
   "execution_count": 16,
   "id": "0fc28707",
   "metadata": {},
   "outputs": [],
   "source": [
    "df.dropna(subset='body',inplace=True)"
   ]
  },
  {
   "cell_type": "code",
   "execution_count": 17,
   "id": "5472e937",
   "metadata": {},
   "outputs": [],
   "source": [
    "df.dropna(subset='transmission',inplace=True)"
   ]
  },
  {
   "cell_type": "code",
   "execution_count": 18,
   "id": "159a8b59",
   "metadata": {},
   "outputs": [],
   "source": [
    "df.drop('vin',axis=1,inplace=True)"
   ]
  },
  {
   "cell_type": "code",
   "execution_count": 19,
   "id": "fa4663d9",
   "metadata": {},
   "outputs": [
    {
     "data": {
      "text/plain": [
       "30.77898803557608"
      ]
     },
     "execution_count": 19,
     "metadata": {},
     "output_type": "execute_result"
    }
   ],
   "source": [
    "mean_condition = df['condition'].mean()\n",
    "mean_condition"
   ]
  },
  {
   "cell_type": "code",
   "execution_count": 20,
   "id": "302f5820",
   "metadata": {},
   "outputs": [],
   "source": [
    "df['condition']=df['condition'].replace(np.nan,mean_condition)"
   ]
  },
  {
   "cell_type": "code",
   "execution_count": 21,
   "id": "e2bd1031",
   "metadata": {},
   "outputs": [],
   "source": [
    "color=df['color'].mode().loc[0]\n",
    "df['color']=df['color'].replace(np.nan,color)"
   ]
  },
  {
   "cell_type": "code",
   "execution_count": 22,
   "id": "b32700ff",
   "metadata": {},
   "outputs": [],
   "source": [
    "color=df['interior'].mode().loc[0]\n",
    "df['interior']=df['interior'].replace(np.nan,color)"
   ]
  },
  {
   "cell_type": "code",
   "execution_count": 63,
   "id": "a023d75e",
   "metadata": {},
   "outputs": [],
   "source": [
    "df['saledate']=pd.to_datetime(df['saledate'],format='%d %m %y',errors='coerce',utc=True)"
   ]
  },
  {
   "cell_type": "code",
   "execution_count": 64,
   "id": "0249c99e",
   "metadata": {},
   "outputs": [
    {
     "data": {
      "text/plain": [
       "0        2014-12-16 04:30:00+00:00\n",
       "1        2014-12-16 04:30:00+00:00\n",
       "2        2015-01-14 20:30:00+00:00\n",
       "3        2015-01-28 20:30:00+00:00\n",
       "4        2014-12-18 04:30:00+00:00\n",
       "                    ...           \n",
       "482355   2015-07-06 23:15:00+00:00\n",
       "482356   2015-07-08 02:30:00+00:00\n",
       "482357   2015-07-08 02:30:00+00:00\n",
       "482358   2015-07-08 23:45:00+00:00\n",
       "482359   2015-05-27 22:30:00+00:00\n",
       "Name: saledate, Length: 482359, dtype: datetime64[ns, UTC]"
      ]
     },
     "execution_count": 64,
     "metadata": {},
     "output_type": "execute_result"
    }
   ],
   "source": [
    "df['saledate']"
   ]
  },
  {
   "cell_type": "code",
   "execution_count": 83,
   "id": "11595c2a",
   "metadata": {},
   "outputs": [],
   "source": [
    "df['Date']=pd.to_datetime(df['saledate']).dt.date"
   ]
  },
  {
   "cell_type": "code",
   "execution_count": 85,
   "id": "213e0dac",
   "metadata": {},
   "outputs": [],
   "source": [
    "df['Year']=pd.to_datetime(df['Date']).dt.year"
   ]
  },
  {
   "cell_type": "code",
   "execution_count": 86,
   "id": "ae55d7f0",
   "metadata": {},
   "outputs": [],
   "source": [
    "df['Year']=df['Year'].astype('object')"
   ]
  },
  {
   "cell_type": "code",
   "execution_count": 87,
   "id": "82162824",
   "metadata": {},
   "outputs": [
    {
     "data": {
      "text/plain": [
       "0         2014.0\n",
       "1         2014.0\n",
       "2         2015.0\n",
       "3         2015.0\n",
       "4         2014.0\n",
       "           ...  \n",
       "482355    2015.0\n",
       "482356    2015.0\n",
       "482357    2015.0\n",
       "482358    2015.0\n",
       "482359    2015.0\n",
       "Name: Year, Length: 482359, dtype: object"
      ]
     },
     "execution_count": 87,
     "metadata": {},
     "output_type": "execute_result"
    }
   ],
   "source": [
    "df['Year']"
   ]
  },
  {
   "cell_type": "code",
   "execution_count": 88,
   "id": "cd772f96",
   "metadata": {},
   "outputs": [
    {
     "data": {
      "text/html": [
       "<div>\n",
       "<style scoped>\n",
       "    .dataframe tbody tr th:only-of-type {\n",
       "        vertical-align: middle;\n",
       "    }\n",
       "\n",
       "    .dataframe tbody tr th {\n",
       "        vertical-align: top;\n",
       "    }\n",
       "\n",
       "    .dataframe thead th {\n",
       "        text-align: right;\n",
       "    }\n",
       "</style>\n",
       "<table border=\"1\" class=\"dataframe\">\n",
       "  <thead>\n",
       "    <tr style=\"text-align: right;\">\n",
       "      <th></th>\n",
       "      <th>make</th>\n",
       "      <th>model</th>\n",
       "      <th>body</th>\n",
       "      <th>transmission</th>\n",
       "      <th>state</th>\n",
       "      <th>condition</th>\n",
       "      <th>odometer</th>\n",
       "      <th>color</th>\n",
       "      <th>interior</th>\n",
       "      <th>seller</th>\n",
       "      <th>mmr</th>\n",
       "      <th>sellingprice</th>\n",
       "      <th>saledate</th>\n",
       "      <th>Year</th>\n",
       "      <th>Date</th>\n",
       "    </tr>\n",
       "  </thead>\n",
       "  <tbody>\n",
       "    <tr>\n",
       "      <th>408769</th>\n",
       "      <td>Nissan</td>\n",
       "      <td>Quest</td>\n",
       "      <td>minivan</td>\n",
       "      <td>automatic</td>\n",
       "      <td>fl</td>\n",
       "      <td>47.0</td>\n",
       "      <td>9374.0</td>\n",
       "      <td>black</td>\n",
       "      <td>beige</td>\n",
       "      <td>nissan north america inc.</td>\n",
       "      <td>21700.0</td>\n",
       "      <td>24600.0</td>\n",
       "      <td>2015-06-02 19:00:00+00:00</td>\n",
       "      <td>2015.0</td>\n",
       "      <td>2015-06-02</td>\n",
       "    </tr>\n",
       "    <tr>\n",
       "      <th>481115</th>\n",
       "      <td>Pontiac</td>\n",
       "      <td>G6</td>\n",
       "      <td>sedan</td>\n",
       "      <td>automatic</td>\n",
       "      <td>ga</td>\n",
       "      <td>27.0</td>\n",
       "      <td>153294.0</td>\n",
       "      <td>gray</td>\n",
       "      <td>black</td>\n",
       "      <td>us auto sales inc</td>\n",
       "      <td>2075.0</td>\n",
       "      <td>2600.0</td>\n",
       "      <td>2015-06-17 20:00:00+00:00</td>\n",
       "      <td>2015.0</td>\n",
       "      <td>2015-06-17</td>\n",
       "    </tr>\n",
       "    <tr>\n",
       "      <th>83100</th>\n",
       "      <td>Jeep</td>\n",
       "      <td>Wrangler</td>\n",
       "      <td>SUV</td>\n",
       "      <td>automatic</td>\n",
       "      <td>pr</td>\n",
       "      <td>5.0</td>\n",
       "      <td>22994.0</td>\n",
       "      <td>orange</td>\n",
       "      <td>black</td>\n",
       "      <td>scotiabank de puerto rico</td>\n",
       "      <td>25400.0</td>\n",
       "      <td>24600.0</td>\n",
       "      <td>2015-01-14 19:00:00+00:00</td>\n",
       "      <td>2015.0</td>\n",
       "      <td>2015-01-14</td>\n",
       "    </tr>\n",
       "    <tr>\n",
       "      <th>23081</th>\n",
       "      <td>Chrysler</td>\n",
       "      <td>Sebring</td>\n",
       "      <td>Convertible</td>\n",
       "      <td>automatic</td>\n",
       "      <td>ne</td>\n",
       "      <td>35.0</td>\n",
       "      <td>91143.0</td>\n",
       "      <td>white</td>\n",
       "      <td>black</td>\n",
       "      <td>performance ford</td>\n",
       "      <td>1800.0</td>\n",
       "      <td>2500.0</td>\n",
       "      <td>2014-12-18 03:00:00+00:00</td>\n",
       "      <td>2014.0</td>\n",
       "      <td>2014-12-18</td>\n",
       "    </tr>\n",
       "    <tr>\n",
       "      <th>119724</th>\n",
       "      <td>Nissan</td>\n",
       "      <td>Pathfinder</td>\n",
       "      <td>SUV</td>\n",
       "      <td>automatic</td>\n",
       "      <td>pa</td>\n",
       "      <td>42.0</td>\n",
       "      <td>43618.0</td>\n",
       "      <td>black</td>\n",
       "      <td>black</td>\n",
       "      <td>adcock brothers inc</td>\n",
       "      <td>19800.0</td>\n",
       "      <td>20400.0</td>\n",
       "      <td>2015-01-15 17:00:00+00:00</td>\n",
       "      <td>2015.0</td>\n",
       "      <td>2015-01-15</td>\n",
       "    </tr>\n",
       "  </tbody>\n",
       "</table>\n",
       "</div>"
      ],
      "text/plain": [
       "            make       model         body transmission state  condition   \n",
       "408769    Nissan       Quest      minivan    automatic    fl       47.0  \\\n",
       "481115   Pontiac          G6        sedan    automatic    ga       27.0   \n",
       "83100       Jeep    Wrangler          SUV    automatic    pr        5.0   \n",
       "23081   Chrysler     Sebring  Convertible    automatic    ne       35.0   \n",
       "119724    Nissan  Pathfinder          SUV    automatic    pa       42.0   \n",
       "\n",
       "        odometer   color interior                     seller      mmr   \n",
       "408769    9374.0   black    beige  nissan north america inc.  21700.0  \\\n",
       "481115  153294.0    gray    black          us auto sales inc   2075.0   \n",
       "83100    22994.0  orange    black  scotiabank de puerto rico  25400.0   \n",
       "23081    91143.0   white    black           performance ford   1800.0   \n",
       "119724   43618.0   black    black        adcock brothers inc  19800.0   \n",
       "\n",
       "        sellingprice                  saledate    Year        Date  \n",
       "408769       24600.0 2015-06-02 19:00:00+00:00  2015.0  2015-06-02  \n",
       "481115        2600.0 2015-06-17 20:00:00+00:00  2015.0  2015-06-17  \n",
       "83100        24600.0 2015-01-14 19:00:00+00:00  2015.0  2015-01-14  \n",
       "23081         2500.0 2014-12-18 03:00:00+00:00  2014.0  2014-12-18  \n",
       "119724       20400.0 2015-01-15 17:00:00+00:00  2015.0  2015-01-15  "
      ]
     },
     "execution_count": 88,
     "metadata": {},
     "output_type": "execute_result"
    }
   ],
   "source": [
    "df.sample(5)"
   ]
  },
  {
   "cell_type": "code",
   "execution_count": 75,
   "id": "cf9fb38e",
   "metadata": {},
   "outputs": [],
   "source": [
    "df.drop('year',axis=1,inplace=True)"
   ]
  },
  {
   "cell_type": "code",
   "execution_count": 76,
   "id": "a902fa01",
   "metadata": {},
   "outputs": [
    {
     "data": {
      "text/html": [
       "<div>\n",
       "<style scoped>\n",
       "    .dataframe tbody tr th:only-of-type {\n",
       "        vertical-align: middle;\n",
       "    }\n",
       "\n",
       "    .dataframe tbody tr th {\n",
       "        vertical-align: top;\n",
       "    }\n",
       "\n",
       "    .dataframe thead th {\n",
       "        text-align: right;\n",
       "    }\n",
       "</style>\n",
       "<table border=\"1\" class=\"dataframe\">\n",
       "  <thead>\n",
       "    <tr style=\"text-align: right;\">\n",
       "      <th></th>\n",
       "      <th>make</th>\n",
       "      <th>model</th>\n",
       "      <th>body</th>\n",
       "      <th>transmission</th>\n",
       "      <th>state</th>\n",
       "      <th>condition</th>\n",
       "      <th>odometer</th>\n",
       "      <th>color</th>\n",
       "      <th>interior</th>\n",
       "      <th>seller</th>\n",
       "      <th>mmr</th>\n",
       "      <th>sellingprice</th>\n",
       "      <th>saledate</th>\n",
       "      <th>Year</th>\n",
       "    </tr>\n",
       "  </thead>\n",
       "  <tbody>\n",
       "    <tr>\n",
       "      <th>0</th>\n",
       "      <td>Kia</td>\n",
       "      <td>Sorento</td>\n",
       "      <td>SUV</td>\n",
       "      <td>automatic</td>\n",
       "      <td>ca</td>\n",
       "      <td>5.0</td>\n",
       "      <td>16639.0</td>\n",
       "      <td>white</td>\n",
       "      <td>black</td>\n",
       "      <td>kia motors america  inc</td>\n",
       "      <td>20500.0</td>\n",
       "      <td>21500.0</td>\n",
       "      <td>2014-12-16 04:30:00+00:00</td>\n",
       "      <td>2014.0</td>\n",
       "    </tr>\n",
       "    <tr>\n",
       "      <th>1</th>\n",
       "      <td>Kia</td>\n",
       "      <td>Sorento</td>\n",
       "      <td>SUV</td>\n",
       "      <td>automatic</td>\n",
       "      <td>ca</td>\n",
       "      <td>5.0</td>\n",
       "      <td>9393.0</td>\n",
       "      <td>white</td>\n",
       "      <td>beige</td>\n",
       "      <td>kia motors america  inc</td>\n",
       "      <td>20800.0</td>\n",
       "      <td>21500.0</td>\n",
       "      <td>2014-12-16 04:30:00+00:00</td>\n",
       "      <td>2014.0</td>\n",
       "    </tr>\n",
       "    <tr>\n",
       "      <th>2</th>\n",
       "      <td>BMW</td>\n",
       "      <td>3 Series</td>\n",
       "      <td>Sedan</td>\n",
       "      <td>automatic</td>\n",
       "      <td>ca</td>\n",
       "      <td>45.0</td>\n",
       "      <td>1331.0</td>\n",
       "      <td>gray</td>\n",
       "      <td>black</td>\n",
       "      <td>financial services remarketing (lease)</td>\n",
       "      <td>31900.0</td>\n",
       "      <td>30000.0</td>\n",
       "      <td>2015-01-14 20:30:00+00:00</td>\n",
       "      <td>2015.0</td>\n",
       "    </tr>\n",
       "    <tr>\n",
       "      <th>3</th>\n",
       "      <td>Volvo</td>\n",
       "      <td>S60</td>\n",
       "      <td>Sedan</td>\n",
       "      <td>automatic</td>\n",
       "      <td>ca</td>\n",
       "      <td>41.0</td>\n",
       "      <td>14282.0</td>\n",
       "      <td>white</td>\n",
       "      <td>black</td>\n",
       "      <td>volvo na rep/world omni</td>\n",
       "      <td>27500.0</td>\n",
       "      <td>27750.0</td>\n",
       "      <td>2015-01-28 20:30:00+00:00</td>\n",
       "      <td>2015.0</td>\n",
       "    </tr>\n",
       "    <tr>\n",
       "      <th>4</th>\n",
       "      <td>BMW</td>\n",
       "      <td>6 Series Gran Coupe</td>\n",
       "      <td>Sedan</td>\n",
       "      <td>automatic</td>\n",
       "      <td>ca</td>\n",
       "      <td>43.0</td>\n",
       "      <td>2641.0</td>\n",
       "      <td>gray</td>\n",
       "      <td>black</td>\n",
       "      <td>financial services remarketing (lease)</td>\n",
       "      <td>66000.0</td>\n",
       "      <td>67000.0</td>\n",
       "      <td>2014-12-18 04:30:00+00:00</td>\n",
       "      <td>2014.0</td>\n",
       "    </tr>\n",
       "    <tr>\n",
       "      <th>...</th>\n",
       "      <td>...</td>\n",
       "      <td>...</td>\n",
       "      <td>...</td>\n",
       "      <td>...</td>\n",
       "      <td>...</td>\n",
       "      <td>...</td>\n",
       "      <td>...</td>\n",
       "      <td>...</td>\n",
       "      <td>...</td>\n",
       "      <td>...</td>\n",
       "      <td>...</td>\n",
       "      <td>...</td>\n",
       "      <td>...</td>\n",
       "      <td>...</td>\n",
       "    </tr>\n",
       "    <tr>\n",
       "      <th>482355</th>\n",
       "      <td>BMW</td>\n",
       "      <td>5 Series</td>\n",
       "      <td>Sedan</td>\n",
       "      <td>automatic</td>\n",
       "      <td>fl</td>\n",
       "      <td>39.0</td>\n",
       "      <td>66403.0</td>\n",
       "      <td>white</td>\n",
       "      <td>brown</td>\n",
       "      <td>lauderdale imports ltd bmw pembrok pines</td>\n",
       "      <td>20300.0</td>\n",
       "      <td>22800.0</td>\n",
       "      <td>2015-07-06 23:15:00+00:00</td>\n",
       "      <td>2015.0</td>\n",
       "    </tr>\n",
       "    <tr>\n",
       "      <th>482356</th>\n",
       "      <td>Ram</td>\n",
       "      <td>2500</td>\n",
       "      <td>Crew Cab</td>\n",
       "      <td>automatic</td>\n",
       "      <td>wa</td>\n",
       "      <td>5.0</td>\n",
       "      <td>54393.0</td>\n",
       "      <td>white</td>\n",
       "      <td>black</td>\n",
       "      <td>i -5 uhlmann rv</td>\n",
       "      <td>30200.0</td>\n",
       "      <td>30800.0</td>\n",
       "      <td>2015-07-08 02:30:00+00:00</td>\n",
       "      <td>2015.0</td>\n",
       "    </tr>\n",
       "    <tr>\n",
       "      <th>482357</th>\n",
       "      <td>BMW</td>\n",
       "      <td>X5</td>\n",
       "      <td>SUV</td>\n",
       "      <td>automatic</td>\n",
       "      <td>ca</td>\n",
       "      <td>48.0</td>\n",
       "      <td>50561.0</td>\n",
       "      <td>black</td>\n",
       "      <td>black</td>\n",
       "      <td>financial services remarketing (lease)</td>\n",
       "      <td>29800.0</td>\n",
       "      <td>34000.0</td>\n",
       "      <td>2015-07-08 02:30:00+00:00</td>\n",
       "      <td>2015.0</td>\n",
       "    </tr>\n",
       "    <tr>\n",
       "      <th>482358</th>\n",
       "      <td>Nissan</td>\n",
       "      <td>Altima</td>\n",
       "      <td>sedan</td>\n",
       "      <td>automatic</td>\n",
       "      <td>ga</td>\n",
       "      <td>38.0</td>\n",
       "      <td>16658.0</td>\n",
       "      <td>white</td>\n",
       "      <td>black</td>\n",
       "      <td>enterprise vehicle exchange / tra / rental / t...</td>\n",
       "      <td>15100.0</td>\n",
       "      <td>11100.0</td>\n",
       "      <td>2015-07-08 23:45:00+00:00</td>\n",
       "      <td>2015.0</td>\n",
       "    </tr>\n",
       "    <tr>\n",
       "      <th>482359</th>\n",
       "      <td>Ford</td>\n",
       "      <td>F-150</td>\n",
       "      <td>SuperCrew</td>\n",
       "      <td>automatic</td>\n",
       "      <td>ca</td>\n",
       "      <td>34.0</td>\n",
       "      <td>15008.0</td>\n",
       "      <td>gray</td>\n",
       "      <td>gray</td>\n",
       "      <td>ford motor credit company llc pd</td>\n",
       "      <td>29600.0</td>\n",
       "      <td>26700.0</td>\n",
       "      <td>2015-05-27 22:30:00+00:00</td>\n",
       "      <td>2015.0</td>\n",
       "    </tr>\n",
       "  </tbody>\n",
       "</table>\n",
       "<p>482359 rows × 14 columns</p>\n",
       "</div>"
      ],
      "text/plain": [
       "          make                model       body transmission state  condition   \n",
       "0          Kia              Sorento        SUV    automatic    ca        5.0  \\\n",
       "1          Kia              Sorento        SUV    automatic    ca        5.0   \n",
       "2          BMW             3 Series      Sedan    automatic    ca       45.0   \n",
       "3        Volvo                  S60      Sedan    automatic    ca       41.0   \n",
       "4          BMW  6 Series Gran Coupe      Sedan    automatic    ca       43.0   \n",
       "...        ...                  ...        ...          ...   ...        ...   \n",
       "482355     BMW             5 Series      Sedan    automatic    fl       39.0   \n",
       "482356     Ram                 2500   Crew Cab    automatic    wa        5.0   \n",
       "482357     BMW                   X5        SUV    automatic    ca       48.0   \n",
       "482358  Nissan               Altima      sedan    automatic    ga       38.0   \n",
       "482359    Ford                F-150  SuperCrew    automatic    ca       34.0   \n",
       "\n",
       "        odometer  color interior   \n",
       "0        16639.0  white    black  \\\n",
       "1         9393.0  white    beige   \n",
       "2         1331.0   gray    black   \n",
       "3        14282.0  white    black   \n",
       "4         2641.0   gray    black   \n",
       "...          ...    ...      ...   \n",
       "482355   66403.0  white    brown   \n",
       "482356   54393.0  white    black   \n",
       "482357   50561.0  black    black   \n",
       "482358   16658.0  white    black   \n",
       "482359   15008.0   gray     gray   \n",
       "\n",
       "                                                   seller      mmr   \n",
       "0                                 kia motors america  inc  20500.0  \\\n",
       "1                                 kia motors america  inc  20800.0   \n",
       "2                  financial services remarketing (lease)  31900.0   \n",
       "3                                 volvo na rep/world omni  27500.0   \n",
       "4                  financial services remarketing (lease)  66000.0   \n",
       "...                                                   ...      ...   \n",
       "482355           lauderdale imports ltd bmw pembrok pines  20300.0   \n",
       "482356                                    i -5 uhlmann rv  30200.0   \n",
       "482357             financial services remarketing (lease)  29800.0   \n",
       "482358  enterprise vehicle exchange / tra / rental / t...  15100.0   \n",
       "482359                   ford motor credit company llc pd  29600.0   \n",
       "\n",
       "        sellingprice                  saledate    Year  \n",
       "0            21500.0 2014-12-16 04:30:00+00:00  2014.0  \n",
       "1            21500.0 2014-12-16 04:30:00+00:00  2014.0  \n",
       "2            30000.0 2015-01-14 20:30:00+00:00  2015.0  \n",
       "3            27750.0 2015-01-28 20:30:00+00:00  2015.0  \n",
       "4            67000.0 2014-12-18 04:30:00+00:00  2014.0  \n",
       "...              ...                       ...     ...  \n",
       "482355       22800.0 2015-07-06 23:15:00+00:00  2015.0  \n",
       "482356       30800.0 2015-07-08 02:30:00+00:00  2015.0  \n",
       "482357       34000.0 2015-07-08 02:30:00+00:00  2015.0  \n",
       "482358       11100.0 2015-07-08 23:45:00+00:00  2015.0  \n",
       "482359       26700.0 2015-05-27 22:30:00+00:00  2015.0  \n",
       "\n",
       "[482359 rows x 14 columns]"
      ]
     },
     "execution_count": 76,
     "metadata": {},
     "output_type": "execute_result"
    }
   ],
   "source": [
    "df"
   ]
  },
  {
   "cell_type": "code",
   "execution_count": 77,
   "id": "9319a934",
   "metadata": {},
   "outputs": [
    {
     "data": {
      "text/plain": [
       "make             0\n",
       "model            0\n",
       "body             0\n",
       "transmission     0\n",
       "state            0\n",
       "condition        0\n",
       "odometer        55\n",
       "color            0\n",
       "interior         0\n",
       "seller           0\n",
       "mmr             37\n",
       "sellingprice    11\n",
       "saledate        37\n",
       "Year            37\n",
       "dtype: int64"
      ]
     },
     "execution_count": 77,
     "metadata": {},
     "output_type": "execute_result"
    }
   ],
   "source": [
    "df.isnull().sum()"
   ]
  },
  {
   "cell_type": "code",
   "execution_count": 78,
   "id": "c77ab30a",
   "metadata": {},
   "outputs": [
    {
     "data": {
      "text/plain": [
       "make                         object\n",
       "model                        object\n",
       "body                         object\n",
       "transmission                 object\n",
       "state                        object\n",
       "condition                   float64\n",
       "odometer                    float64\n",
       "color                        object\n",
       "interior                     object\n",
       "seller                       object\n",
       "mmr                         float64\n",
       "sellingprice                float64\n",
       "saledate        datetime64[ns, UTC]\n",
       "Year                         object\n",
       "dtype: object"
      ]
     },
     "execution_count": 78,
     "metadata": {},
     "output_type": "execute_result"
    }
   ],
   "source": [
    "df.dtypes"
   ]
  },
  {
   "cell_type": "code",
   "execution_count": 79,
   "id": "659619e2",
   "metadata": {},
   "outputs": [
    {
     "data": {
      "text/plain": [
       "0         16639.0\n",
       "1          9393.0\n",
       "2          1331.0\n",
       "3         14282.0\n",
       "4          2641.0\n",
       "           ...   \n",
       "482355    66403.0\n",
       "482356    54393.0\n",
       "482357    50561.0\n",
       "482358    16658.0\n",
       "482359    15008.0\n",
       "Name: odometer, Length: 482359, dtype: float64"
      ]
     },
     "execution_count": 79,
     "metadata": {},
     "output_type": "execute_result"
    }
   ],
   "source": [
    "odmeter_mean=df['odometer'].mean()\n",
    "df['odometer'].replace(np.nan,odmeter_mean)"
   ]
  },
  {
   "cell_type": "code",
   "execution_count": 80,
   "id": "ed27558e",
   "metadata": {},
   "outputs": [
    {
     "data": {
      "text/plain": [
       "0         20500.0\n",
       "1         20800.0\n",
       "2         31900.0\n",
       "3         27500.0\n",
       "4         66000.0\n",
       "           ...   \n",
       "482355    20300.0\n",
       "482356    30200.0\n",
       "482357    29800.0\n",
       "482358    15100.0\n",
       "482359    29600.0\n",
       "Name: mmr, Length: 482359, dtype: float64"
      ]
     },
     "execution_count": 80,
     "metadata": {},
     "output_type": "execute_result"
    }
   ],
   "source": [
    "mean_mmr=df['mmr'].mean()\n",
    "df['mmr'].replace(np.nan,mean_mmr)"
   ]
  },
  {
   "cell_type": "code",
   "execution_count": 81,
   "id": "ffeb5242",
   "metadata": {},
   "outputs": [
    {
     "data": {
      "text/plain": [
       "0         21500.0\n",
       "1         21500.0\n",
       "2         30000.0\n",
       "3         27750.0\n",
       "4         67000.0\n",
       "           ...   \n",
       "482355    22800.0\n",
       "482356    30800.0\n",
       "482357    34000.0\n",
       "482358    11100.0\n",
       "482359    26700.0\n",
       "Name: sellingprice, Length: 482359, dtype: float64"
      ]
     },
     "execution_count": 81,
     "metadata": {},
     "output_type": "execute_result"
    }
   ],
   "source": [
    "mean_sell=df['sellingprice'].mean()\n",
    "df['sellingprice'].replace(np.nan,mean_sell)"
   ]
  },
  {
   "cell_type": "code",
   "execution_count": 91,
   "id": "1fc6d9f1",
   "metadata": {},
   "outputs": [],
   "source": [
    "df.dropna(subset=['Date','Year','odometer'],inplace=True)"
   ]
  },
  {
   "cell_type": "code",
   "execution_count": 92,
   "id": "03bd38b0",
   "metadata": {},
   "outputs": [
    {
     "data": {
      "text/plain": [
       "make            0\n",
       "model           0\n",
       "body            0\n",
       "transmission    0\n",
       "state           0\n",
       "condition       0\n",
       "odometer        0\n",
       "color           0\n",
       "interior        0\n",
       "seller          0\n",
       "mmr             0\n",
       "sellingprice    0\n",
       "saledate        0\n",
       "Year            0\n",
       "Date            0\n",
       "dtype: int64"
      ]
     },
     "execution_count": 92,
     "metadata": {},
     "output_type": "execute_result"
    }
   ],
   "source": [
    "df.isnull().sum()"
   ]
  },
  {
   "cell_type": "code",
   "execution_count": 93,
   "id": "738b3e44",
   "metadata": {},
   "outputs": [
    {
     "data": {
      "text/plain": [
       "0"
      ]
     },
     "execution_count": 93,
     "metadata": {},
     "output_type": "execute_result"
    }
   ],
   "source": [
    "df.duplicated().sum()"
   ]
  },
  {
   "cell_type": "code",
   "execution_count": 94,
   "id": "573206e8",
   "metadata": {},
   "outputs": [
    {
     "name": "stdout",
     "output_type": "stream",
     "text": [
      "<class 'pandas.core.frame.DataFrame'>\n",
      "Index: 482267 entries, 0 to 482359\n",
      "Data columns (total 15 columns):\n",
      " #   Column        Non-Null Count   Dtype              \n",
      "---  ------        --------------   -----              \n",
      " 0   make          482267 non-null  object             \n",
      " 1   model         482267 non-null  object             \n",
      " 2   body          482267 non-null  object             \n",
      " 3   transmission  482267 non-null  object             \n",
      " 4   state         482267 non-null  object             \n",
      " 5   condition     482267 non-null  float64            \n",
      " 6   odometer      482267 non-null  float64            \n",
      " 7   color         482267 non-null  object             \n",
      " 8   interior      482267 non-null  object             \n",
      " 9   seller        482267 non-null  object             \n",
      " 10  mmr           482267 non-null  float64            \n",
      " 11  sellingprice  482267 non-null  float64            \n",
      " 12  saledate      482267 non-null  datetime64[ns, UTC]\n",
      " 13  Year          482267 non-null  object             \n",
      " 14  Date          482267 non-null  object             \n",
      "dtypes: datetime64[ns, UTC](1), float64(4), object(10)\n",
      "memory usage: 58.9+ MB\n"
     ]
    }
   ],
   "source": [
    "df.info()"
   ]
  },
  {
   "cell_type": "code",
   "execution_count": 95,
   "id": "be0f53d9",
   "metadata": {},
   "outputs": [],
   "source": [
    "df['Year']=df['Year'].astype('int')"
   ]
  },
  {
   "cell_type": "code",
   "execution_count": 96,
   "id": "5ecdf0dc",
   "metadata": {},
   "outputs": [
    {
     "name": "stdout",
     "output_type": "stream",
     "text": [
      "<class 'pandas.core.frame.DataFrame'>\n",
      "Index: 482267 entries, 0 to 482359\n",
      "Data columns (total 15 columns):\n",
      " #   Column        Non-Null Count   Dtype              \n",
      "---  ------        --------------   -----              \n",
      " 0   make          482267 non-null  object             \n",
      " 1   model         482267 non-null  object             \n",
      " 2   body          482267 non-null  object             \n",
      " 3   transmission  482267 non-null  object             \n",
      " 4   state         482267 non-null  object             \n",
      " 5   condition     482267 non-null  float64            \n",
      " 6   odometer      482267 non-null  float64            \n",
      " 7   color         482267 non-null  object             \n",
      " 8   interior      482267 non-null  object             \n",
      " 9   seller        482267 non-null  object             \n",
      " 10  mmr           482267 non-null  float64            \n",
      " 11  sellingprice  482267 non-null  float64            \n",
      " 12  saledate      482267 non-null  datetime64[ns, UTC]\n",
      " 13  Year          482267 non-null  int32              \n",
      " 14  Date          482267 non-null  object             \n",
      "dtypes: datetime64[ns, UTC](1), float64(4), int32(1), object(9)\n",
      "memory usage: 57.0+ MB\n"
     ]
    }
   ],
   "source": [
    "df.info()"
   ]
  },
  {
   "cell_type": "code",
   "execution_count": 97,
   "id": "e7939c34",
   "metadata": {},
   "outputs": [],
   "source": [
    "df.drop('saledate',axis=1,inplace=True)"
   ]
  },
  {
   "cell_type": "code",
   "execution_count": 98,
   "id": "5c6a634e",
   "metadata": {},
   "outputs": [
    {
     "data": {
      "text/html": [
       "<div>\n",
       "<style scoped>\n",
       "    .dataframe tbody tr th:only-of-type {\n",
       "        vertical-align: middle;\n",
       "    }\n",
       "\n",
       "    .dataframe tbody tr th {\n",
       "        vertical-align: top;\n",
       "    }\n",
       "\n",
       "    .dataframe thead th {\n",
       "        text-align: right;\n",
       "    }\n",
       "</style>\n",
       "<table border=\"1\" class=\"dataframe\">\n",
       "  <thead>\n",
       "    <tr style=\"text-align: right;\">\n",
       "      <th></th>\n",
       "      <th>make</th>\n",
       "      <th>model</th>\n",
       "      <th>body</th>\n",
       "      <th>transmission</th>\n",
       "      <th>state</th>\n",
       "      <th>condition</th>\n",
       "      <th>odometer</th>\n",
       "      <th>color</th>\n",
       "      <th>interior</th>\n",
       "      <th>seller</th>\n",
       "      <th>mmr</th>\n",
       "      <th>sellingprice</th>\n",
       "      <th>Year</th>\n",
       "      <th>Date</th>\n",
       "    </tr>\n",
       "  </thead>\n",
       "  <tbody>\n",
       "    <tr>\n",
       "      <th>73800</th>\n",
       "      <td>Chevrolet</td>\n",
       "      <td>Uplander</td>\n",
       "      <td>Minivan</td>\n",
       "      <td>automatic</td>\n",
       "      <td>nc</td>\n",
       "      <td>44.0</td>\n",
       "      <td>141478.0</td>\n",
       "      <td>white</td>\n",
       "      <td>gray</td>\n",
       "      <td>performance auto center inc</td>\n",
       "      <td>3000.0</td>\n",
       "      <td>3700.0</td>\n",
       "      <td>2015</td>\n",
       "      <td>2015-01-04</td>\n",
       "    </tr>\n",
       "    <tr>\n",
       "      <th>362532</th>\n",
       "      <td>Lincoln</td>\n",
       "      <td>MKS</td>\n",
       "      <td>Sedan</td>\n",
       "      <td>automatic</td>\n",
       "      <td>il</td>\n",
       "      <td>49.0</td>\n",
       "      <td>21562.0</td>\n",
       "      <td>gray</td>\n",
       "      <td>black</td>\n",
       "      <td>ford motor credit company</td>\n",
       "      <td>27300.0</td>\n",
       "      <td>27200.0</td>\n",
       "      <td>2015</td>\n",
       "      <td>2015-06-10</td>\n",
       "    </tr>\n",
       "  </tbody>\n",
       "</table>\n",
       "</div>"
      ],
      "text/plain": [
       "             make     model     body transmission state  condition  odometer   \n",
       "73800   Chevrolet  Uplander  Minivan    automatic    nc       44.0  141478.0  \\\n",
       "362532    Lincoln       MKS    Sedan    automatic    il       49.0   21562.0   \n",
       "\n",
       "        color interior                       seller      mmr  sellingprice   \n",
       "73800   white     gray  performance auto center inc   3000.0        3700.0  \\\n",
       "362532   gray    black    ford motor credit company  27300.0       27200.0   \n",
       "\n",
       "        Year        Date  \n",
       "73800   2015  2015-01-04  \n",
       "362532  2015  2015-06-10  "
      ]
     },
     "execution_count": 98,
     "metadata": {},
     "output_type": "execute_result"
    }
   ],
   "source": [
    "df.sample(2)"
   ]
  },
  {
   "cell_type": "code",
   "execution_count": 99,
   "id": "d46de2db",
   "metadata": {},
   "outputs": [],
   "source": [
    "df.rename(columns={'make':'Company','model':'Model','body':'Body','transmission':'Transmission','state':'State',\n",
    "                  'condition':'Health','odometer':'Distance','color':'Color','interior':'Inside_color',\n",
    "                  'seller':'Seller','mmr':'Estimated_Price','sellingprice':'Selling_price'},inplace=True)"
   ]
  },
  {
   "cell_type": "code",
   "execution_count": 100,
   "id": "ec73d6e5",
   "metadata": {},
   "outputs": [
    {
     "data": {
      "text/html": [
       "<div>\n",
       "<style scoped>\n",
       "    .dataframe tbody tr th:only-of-type {\n",
       "        vertical-align: middle;\n",
       "    }\n",
       "\n",
       "    .dataframe tbody tr th {\n",
       "        vertical-align: top;\n",
       "    }\n",
       "\n",
       "    .dataframe thead th {\n",
       "        text-align: right;\n",
       "    }\n",
       "</style>\n",
       "<table border=\"1\" class=\"dataframe\">\n",
       "  <thead>\n",
       "    <tr style=\"text-align: right;\">\n",
       "      <th></th>\n",
       "      <th>Company</th>\n",
       "      <th>Model</th>\n",
       "      <th>Body</th>\n",
       "      <th>Transmission</th>\n",
       "      <th>State</th>\n",
       "      <th>Health</th>\n",
       "      <th>Distance</th>\n",
       "      <th>Color</th>\n",
       "      <th>Inside_color</th>\n",
       "      <th>Seller</th>\n",
       "      <th>Estimated_Price</th>\n",
       "      <th>Selling_price</th>\n",
       "      <th>Year</th>\n",
       "      <th>Date</th>\n",
       "    </tr>\n",
       "  </thead>\n",
       "  <tbody>\n",
       "    <tr>\n",
       "      <th>286185</th>\n",
       "      <td>FIAT</td>\n",
       "      <td>500L</td>\n",
       "      <td>Wagon</td>\n",
       "      <td>automatic</td>\n",
       "      <td>mo</td>\n",
       "      <td>29.0</td>\n",
       "      <td>41851.0</td>\n",
       "      <td>green</td>\n",
       "      <td>gray</td>\n",
       "      <td>chrysler capital</td>\n",
       "      <td>11300.0</td>\n",
       "      <td>8700.0</td>\n",
       "      <td>2015</td>\n",
       "      <td>2015-02-24</td>\n",
       "    </tr>\n",
       "    <tr>\n",
       "      <th>228236</th>\n",
       "      <td>Toyota</td>\n",
       "      <td>Camry</td>\n",
       "      <td>Sedan</td>\n",
       "      <td>automatic</td>\n",
       "      <td>fl</td>\n",
       "      <td>37.0</td>\n",
       "      <td>38785.0</td>\n",
       "      <td>black</td>\n",
       "      <td>gray</td>\n",
       "      <td>toyota financial services</td>\n",
       "      <td>12950.0</td>\n",
       "      <td>13300.0</td>\n",
       "      <td>2015</td>\n",
       "      <td>2015-02-09</td>\n",
       "    </tr>\n",
       "    <tr>\n",
       "      <th>230051</th>\n",
       "      <td>Chevrolet</td>\n",
       "      <td>Cruze</td>\n",
       "      <td>Sedan</td>\n",
       "      <td>automatic</td>\n",
       "      <td>md</td>\n",
       "      <td>44.0</td>\n",
       "      <td>56295.0</td>\n",
       "      <td>silver</td>\n",
       "      <td>gray</td>\n",
       "      <td>the hertz corporation</td>\n",
       "      <td>9000.0</td>\n",
       "      <td>8900.0</td>\n",
       "      <td>2015</td>\n",
       "      <td>2015-02-09</td>\n",
       "    </tr>\n",
       "    <tr>\n",
       "      <th>154056</th>\n",
       "      <td>Ford</td>\n",
       "      <td>Explorer</td>\n",
       "      <td>SUV</td>\n",
       "      <td>automatic</td>\n",
       "      <td>wi</td>\n",
       "      <td>29.0</td>\n",
       "      <td>163930.0</td>\n",
       "      <td>gray</td>\n",
       "      <td>tan</td>\n",
       "      <td>harry kaufmann motor cars inc</td>\n",
       "      <td>1650.0</td>\n",
       "      <td>1800.0</td>\n",
       "      <td>2015</td>\n",
       "      <td>2015-01-27</td>\n",
       "    </tr>\n",
       "    <tr>\n",
       "      <th>232785</th>\n",
       "      <td>Dodge</td>\n",
       "      <td>Caliber</td>\n",
       "      <td>Wagon</td>\n",
       "      <td>automatic</td>\n",
       "      <td>nc</td>\n",
       "      <td>28.0</td>\n",
       "      <td>95909.0</td>\n",
       "      <td>blue</td>\n",
       "      <td>black</td>\n",
       "      <td>santander consumer</td>\n",
       "      <td>3725.0</td>\n",
       "      <td>5600.0</td>\n",
       "      <td>2015</td>\n",
       "      <td>2015-02-08</td>\n",
       "    </tr>\n",
       "  </tbody>\n",
       "</table>\n",
       "</div>"
      ],
      "text/plain": [
       "          Company     Model   Body Transmission State  Health  Distance   \n",
       "286185       FIAT      500L  Wagon    automatic    mo    29.0   41851.0  \\\n",
       "228236     Toyota     Camry  Sedan    automatic    fl    37.0   38785.0   \n",
       "230051  Chevrolet     Cruze  Sedan    automatic    md    44.0   56295.0   \n",
       "154056       Ford  Explorer    SUV    automatic    wi    29.0  163930.0   \n",
       "232785      Dodge   Caliber  Wagon    automatic    nc    28.0   95909.0   \n",
       "\n",
       "         Color Inside_color                         Seller  Estimated_Price   \n",
       "286185   green         gray               chrysler capital          11300.0  \\\n",
       "228236   black         gray      toyota financial services          12950.0   \n",
       "230051  silver         gray          the hertz corporation           9000.0   \n",
       "154056    gray          tan  harry kaufmann motor cars inc           1650.0   \n",
       "232785    blue        black             santander consumer           3725.0   \n",
       "\n",
       "        Selling_price  Year        Date  \n",
       "286185         8700.0  2015  2015-02-24  \n",
       "228236        13300.0  2015  2015-02-09  \n",
       "230051         8900.0  2015  2015-02-09  \n",
       "154056         1800.0  2015  2015-01-27  \n",
       "232785         5600.0  2015  2015-02-08  "
      ]
     },
     "execution_count": 100,
     "metadata": {},
     "output_type": "execute_result"
    }
   ],
   "source": [
    "df.sample(5)"
   ]
  },
  {
   "cell_type": "code",
   "execution_count": 101,
   "id": "fea09fb7",
   "metadata": {},
   "outputs": [
    {
     "data": {
      "text/plain": [
       "6614658975.0"
      ]
     },
     "execution_count": 101,
     "metadata": {},
     "output_type": "execute_result"
    }
   ],
   "source": [
    "x=df['Estimated_Price'].sum()\n",
    "x"
   ]
  },
  {
   "cell_type": "code",
   "execution_count": 102,
   "id": "cd52ba0f",
   "metadata": {},
   "outputs": [
    {
     "data": {
      "text/plain": [
       "6541523976.0"
      ]
     },
     "execution_count": 102,
     "metadata": {},
     "output_type": "execute_result"
    }
   ],
   "source": [
    "y=df['Selling_price'].sum()\n",
    "y"
   ]
  },
  {
   "cell_type": "code",
   "execution_count": 103,
   "id": "90db6b23",
   "metadata": {},
   "outputs": [
    {
     "data": {
      "text/plain": [
       "73134999.0"
      ]
     },
     "execution_count": 103,
     "metadata": {},
     "output_type": "execute_result"
    }
   ],
   "source": [
    "x-y"
   ]
  },
  {
   "cell_type": "code",
   "execution_count": 104,
   "id": "d2241b19",
   "metadata": {},
   "outputs": [
    {
     "data": {
      "text/html": [
       "<div>\n",
       "<style scoped>\n",
       "    .dataframe tbody tr th:only-of-type {\n",
       "        vertical-align: middle;\n",
       "    }\n",
       "\n",
       "    .dataframe tbody tr th {\n",
       "        vertical-align: top;\n",
       "    }\n",
       "\n",
       "    .dataframe thead th {\n",
       "        text-align: right;\n",
       "    }\n",
       "</style>\n",
       "<table border=\"1\" class=\"dataframe\">\n",
       "  <thead>\n",
       "    <tr style=\"text-align: right;\">\n",
       "      <th></th>\n",
       "      <th>Selling_price</th>\n",
       "    </tr>\n",
       "    <tr>\n",
       "      <th>Company</th>\n",
       "      <th></th>\n",
       "    </tr>\n",
       "  </thead>\n",
       "  <tbody>\n",
       "    <tr>\n",
       "      <th>Ford</th>\n",
       "      <td>1.212800e+09</td>\n",
       "    </tr>\n",
       "    <tr>\n",
       "      <th>Chevrolet</th>\n",
       "      <td>6.506729e+08</td>\n",
       "    </tr>\n",
       "    <tr>\n",
       "      <th>Nissan</th>\n",
       "      <td>5.217652e+08</td>\n",
       "    </tr>\n",
       "    <tr>\n",
       "      <th>Toyota</th>\n",
       "      <td>4.442778e+08</td>\n",
       "    </tr>\n",
       "    <tr>\n",
       "      <th>BMW</th>\n",
       "      <td>3.793659e+08</td>\n",
       "    </tr>\n",
       "    <tr>\n",
       "      <th>Mercedes-Benz</th>\n",
       "      <td>3.050711e+08</td>\n",
       "    </tr>\n",
       "    <tr>\n",
       "      <th>Dodge</th>\n",
       "      <td>3.012631e+08</td>\n",
       "    </tr>\n",
       "    <tr>\n",
       "      <th>Infiniti</th>\n",
       "      <td>2.892754e+08</td>\n",
       "    </tr>\n",
       "    <tr>\n",
       "      <th>Honda</th>\n",
       "      <td>2.747404e+08</td>\n",
       "    </tr>\n",
       "    <tr>\n",
       "      <th>Lexus</th>\n",
       "      <td>2.131011e+08</td>\n",
       "    </tr>\n",
       "  </tbody>\n",
       "</table>\n",
       "</div>"
      ],
      "text/plain": [
       "               Selling_price\n",
       "Company                     \n",
       "Ford            1.212800e+09\n",
       "Chevrolet       6.506729e+08\n",
       "Nissan          5.217652e+08\n",
       "Toyota          4.442778e+08\n",
       "BMW             3.793659e+08\n",
       "Mercedes-Benz   3.050711e+08\n",
       "Dodge           3.012631e+08\n",
       "Infiniti        2.892754e+08\n",
       "Honda           2.747404e+08\n",
       "Lexus           2.131011e+08"
      ]
     },
     "execution_count": 104,
     "metadata": {},
     "output_type": "execute_result"
    }
   ],
   "source": [
    "df.groupby(['Company'])[['Selling_price']].sum().sort_values(by='Selling_price',ascending=False).iloc[:10]"
   ]
  },
  {
   "cell_type": "code",
   "execution_count": 105,
   "id": "fe2d4e3f",
   "metadata": {},
   "outputs": [
    {
     "data": {
      "text/plain": [
       "<Axes: xlabel='Company'>"
      ]
     },
     "execution_count": 105,
     "metadata": {},
     "output_type": "execute_result"
    },
    {
     "data": {
      "image/png": "[encoded data removed]",
      "text/plain": [
       "<Figure size 1000x600 with 1 Axes>"
      ]
     },
     "metadata": {},
     "output_type": "display_data"
    }
   ],
   "source": [
    "f,ax = plt.subplots(figsize=(10,6))\n",
    "sns.barplot(x=df.groupby(['Company'])[['Selling_price']].sum().sort_values(by='Selling_price',ascending=False).iloc[:10].index,\n",
    "           y=df.groupby(['Company'])[['Selling_price']].sum().sort_values(by='Selling_price',ascending=False).iloc[:10].values.flatten())"
   ]
  },
  {
   "cell_type": "code",
   "execution_count": 106,
   "id": "bbef3872",
   "metadata": {},
   "outputs": [
    {
     "data": {
      "text/html": [
       "<div>\n",
       "<style scoped>\n",
       "    .dataframe tbody tr th:only-of-type {\n",
       "        vertical-align: middle;\n",
       "    }\n",
       "\n",
       "    .dataframe tbody tr th {\n",
       "        vertical-align: top;\n",
       "    }\n",
       "\n",
       "    .dataframe thead th {\n",
       "        text-align: right;\n",
       "    }\n",
       "</style>\n",
       "<table border=\"1\" class=\"dataframe\">\n",
       "  <thead>\n",
       "    <tr style=\"text-align: right;\">\n",
       "      <th></th>\n",
       "      <th>Selling_price</th>\n",
       "    </tr>\n",
       "    <tr>\n",
       "      <th>Model</th>\n",
       "      <th></th>\n",
       "    </tr>\n",
       "  </thead>\n",
       "  <tbody>\n",
       "    <tr>\n",
       "      <th>F-150</th>\n",
       "      <td>236955058.0</td>\n",
       "    </tr>\n",
       "    <tr>\n",
       "      <th>Altima</th>\n",
       "      <td>186410250.0</td>\n",
       "    </tr>\n",
       "    <tr>\n",
       "      <th>Escape</th>\n",
       "      <td>153158751.0</td>\n",
       "    </tr>\n",
       "    <tr>\n",
       "      <th>Fusion</th>\n",
       "      <td>150567020.0</td>\n",
       "    </tr>\n",
       "    <tr>\n",
       "      <th>G Sedan</th>\n",
       "      <td>138577506.0</td>\n",
       "    </tr>\n",
       "    <tr>\n",
       "      <th>Camry</th>\n",
       "      <td>127172607.0</td>\n",
       "    </tr>\n",
       "    <tr>\n",
       "      <th>Explorer</th>\n",
       "      <td>124276092.0</td>\n",
       "    </tr>\n",
       "    <tr>\n",
       "      <th>3 Series</th>\n",
       "      <td>122649660.0</td>\n",
       "    </tr>\n",
       "    <tr>\n",
       "      <th>Silverado 1500</th>\n",
       "      <td>97647596.0</td>\n",
       "    </tr>\n",
       "    <tr>\n",
       "      <th>Edge</th>\n",
       "      <td>96592907.0</td>\n",
       "    </tr>\n",
       "  </tbody>\n",
       "</table>\n",
       "</div>"
      ],
      "text/plain": [
       "                Selling_price\n",
       "Model                        \n",
       "F-150             236955058.0\n",
       "Altima            186410250.0\n",
       "Escape            153158751.0\n",
       "Fusion            150567020.0\n",
       "G Sedan           138577506.0\n",
       "Camry             127172607.0\n",
       "Explorer          124276092.0\n",
       "3 Series          122649660.0\n",
       "Silverado 1500     97647596.0\n",
       "Edge               96592907.0"
      ]
     },
     "execution_count": 106,
     "metadata": {},
     "output_type": "execute_result"
    }
   ],
   "source": [
    "X=df.groupby(['Model'])[['Selling_price']].sum().sort_values(by='Selling_price',ascending=False).iloc[:10]\n",
    "X"
   ]
  },
  {
   "cell_type": "code",
   "execution_count": 107,
   "id": "a5ba9f8b",
   "metadata": {},
   "outputs": [
    {
     "data": {
      "text/plain": [
       "<Axes: xlabel='Selling_price', ylabel='Model'>"
      ]
     },
     "execution_count": 107,
     "metadata": {},
     "output_type": "execute_result"
    },
    {
     "data": {
      "image/png": "[encoded data removed]",
      "text/plain": [
       "<Figure size 1000x600 with 1 Axes>"
      ]
     },
     "metadata": {},
     "output_type": "display_data"
    }
   ],
   "source": [
    "f,ax=plt.subplots(figsize=(10,6))\n",
    "sns.barplot(x=X['Selling_price'],\n",
    "           y=X.index,orient='h')"
   ]
  },
  {
   "cell_type": "code",
   "execution_count": 108,
   "id": "3110ece7",
   "metadata": {},
   "outputs": [
    {
     "data": {
      "text/plain": [
       "<seaborn.axisgrid.FacetGrid at 0x1cb890d5bd0>"
      ]
     },
     "execution_count": 108,
     "metadata": {},
     "output_type": "execute_result"
    },
    {
     "data": {
      "image/png": "[encoded data removed]",
      "text/plain": [
       "<Figure size 500x500 with 1 Axes>"
      ]
     },
     "metadata": {},
     "output_type": "display_data"
    }
   ],
   "source": [
    "sns.displot(df['Selling_price'],bins=90)"
   ]
  },
  {
   "cell_type": "code",
   "execution_count": 109,
   "id": "37f708a7",
   "metadata": {},
   "outputs": [
    {
     "data": {
      "text/plain": [
       "<seaborn.axisgrid.FacetGrid at 0x1cb88dfd950>"
      ]
     },
     "execution_count": 109,
     "metadata": {},
     "output_type": "execute_result"
    },
    {
     "data": {
      "image/png": "[encoded data removed]",
      "text/plain": [
       "<Figure size 500x500 with 1 Axes>"
      ]
     },
     "metadata": {},
     "output_type": "display_data"
    }
   ],
   "source": [
    "sns.displot(df['Estimated_Price'],bins=90)"
   ]
  },
  {
   "cell_type": "code",
   "execution_count": 110,
   "id": "32c7b182",
   "metadata": {},
   "outputs": [],
   "source": [
    "df['Year']=df['Year'].astype('object')"
   ]
  },
  {
   "cell_type": "code",
   "execution_count": 111,
   "id": "7aee307f",
   "metadata": {},
   "outputs": [
    {
     "data": {
      "text/plain": [
       "<Axes: xlabel='Year', ylabel='Selling_price'>"
      ]
     },
     "execution_count": 111,
     "metadata": {},
     "output_type": "execute_result"
    },
    {
     "data": {
      "image/png": "[encoded data removed]",
      "text/plain": [
       "<Figure size 1000x600 with 1 Axes>"
      ]
     },
     "metadata": {},
     "output_type": "display_data"
    }
   ],
   "source": [
    "f,ax=plt.subplots(figsize=(10,6))\n",
    "sns.lineplot(x=df['Year'],y=df['Selling_price'],data=df,hue=df['Transmission'])"
   ]
  },
  {
   "cell_type": "code",
   "execution_count": 112,
   "id": "4f246b76",
   "metadata": {},
   "outputs": [
    {
     "data": {
      "text/html": [
       "<div>\n",
       "<style scoped>\n",
       "    .dataframe tbody tr th:only-of-type {\n",
       "        vertical-align: middle;\n",
       "    }\n",
       "\n",
       "    .dataframe tbody tr th {\n",
       "        vertical-align: top;\n",
       "    }\n",
       "\n",
       "    .dataframe thead th {\n",
       "        text-align: right;\n",
       "    }\n",
       "</style>\n",
       "<table border=\"1\" class=\"dataframe\">\n",
       "  <thead>\n",
       "    <tr style=\"text-align: right;\">\n",
       "      <th></th>\n",
       "      <th>Company</th>\n",
       "      <th>Model</th>\n",
       "      <th>Body</th>\n",
       "      <th>Transmission</th>\n",
       "      <th>State</th>\n",
       "      <th>Health</th>\n",
       "      <th>Distance</th>\n",
       "      <th>Color</th>\n",
       "      <th>Inside_color</th>\n",
       "      <th>Seller</th>\n",
       "      <th>Estimated_Price</th>\n",
       "      <th>Selling_price</th>\n",
       "      <th>Year</th>\n",
       "      <th>Date</th>\n",
       "    </tr>\n",
       "  </thead>\n",
       "  <tbody>\n",
       "    <tr>\n",
       "      <th>293022</th>\n",
       "      <td>Nissan</td>\n",
       "      <td>Altima</td>\n",
       "      <td>Sedan</td>\n",
       "      <td>automatic</td>\n",
       "      <td>tx</td>\n",
       "      <td>19.0</td>\n",
       "      <td>123850.0</td>\n",
       "      <td>gray</td>\n",
       "      <td>black</td>\n",
       "      <td>supreme fcu</td>\n",
       "      <td>3750.0</td>\n",
       "      <td>5400.0</td>\n",
       "      <td>2015</td>\n",
       "      <td>2015-02-24</td>\n",
       "    </tr>\n",
       "    <tr>\n",
       "      <th>154993</th>\n",
       "      <td>Dodge</td>\n",
       "      <td>Challenger</td>\n",
       "      <td>Coupe</td>\n",
       "      <td>manual</td>\n",
       "      <td>nv</td>\n",
       "      <td>44.0</td>\n",
       "      <td>3536.0</td>\n",
       "      <td>blue</td>\n",
       "      <td>black</td>\n",
       "      <td>jersey's auto sales</td>\n",
       "      <td>25000.0</td>\n",
       "      <td>24750.0</td>\n",
       "      <td>2015</td>\n",
       "      <td>2015-01-22</td>\n",
       "    </tr>\n",
       "    <tr>\n",
       "      <th>394907</th>\n",
       "      <td>Chevrolet</td>\n",
       "      <td>Avalanche</td>\n",
       "      <td>Crew Cab</td>\n",
       "      <td>automatic</td>\n",
       "      <td>nv</td>\n",
       "      <td>35.0</td>\n",
       "      <td>112565.0</td>\n",
       "      <td>gray</td>\n",
       "      <td>gray</td>\n",
       "      <td>bul connections llc</td>\n",
       "      <td>9550.0</td>\n",
       "      <td>8900.0</td>\n",
       "      <td>2015</td>\n",
       "      <td>2015-05-21</td>\n",
       "    </tr>\n",
       "    <tr>\n",
       "      <th>308796</th>\n",
       "      <td>Infiniti</td>\n",
       "      <td>G Sedan</td>\n",
       "      <td>G Sedan</td>\n",
       "      <td>automatic</td>\n",
       "      <td>wa</td>\n",
       "      <td>43.0</td>\n",
       "      <td>22157.0</td>\n",
       "      <td>white</td>\n",
       "      <td>beige</td>\n",
       "      <td>nissan infiniti lt</td>\n",
       "      <td>21700.0</td>\n",
       "      <td>23500.0</td>\n",
       "      <td>2015</td>\n",
       "      <td>2015-03-03</td>\n",
       "    </tr>\n",
       "    <tr>\n",
       "      <th>244987</th>\n",
       "      <td>Chrysler</td>\n",
       "      <td>Sebring</td>\n",
       "      <td>Sedan</td>\n",
       "      <td>automatic</td>\n",
       "      <td>oh</td>\n",
       "      <td>1.0</td>\n",
       "      <td>148551.0</td>\n",
       "      <td>gray</td>\n",
       "      <td>gray</td>\n",
       "      <td>dt credit corporation</td>\n",
       "      <td>2625.0</td>\n",
       "      <td>3550.0</td>\n",
       "      <td>2015</td>\n",
       "      <td>2015-02-18</td>\n",
       "    </tr>\n",
       "    <tr>\n",
       "      <th>134367</th>\n",
       "      <td>Hyundai</td>\n",
       "      <td>Sonata</td>\n",
       "      <td>Sedan</td>\n",
       "      <td>automatic</td>\n",
       "      <td>ca</td>\n",
       "      <td>2.0</td>\n",
       "      <td>23652.0</td>\n",
       "      <td>gray</td>\n",
       "      <td>gray</td>\n",
       "      <td>enterprise vehicle exchange / tra / rental / t...</td>\n",
       "      <td>13850.0</td>\n",
       "      <td>8600.0</td>\n",
       "      <td>2015</td>\n",
       "      <td>2015-01-19</td>\n",
       "    </tr>\n",
       "    <tr>\n",
       "      <th>307053</th>\n",
       "      <td>Chevrolet</td>\n",
       "      <td>Equinox</td>\n",
       "      <td>SUV</td>\n",
       "      <td>automatic</td>\n",
       "      <td>mn</td>\n",
       "      <td>36.0</td>\n",
       "      <td>116477.0</td>\n",
       "      <td>blue</td>\n",
       "      <td>gray</td>\n",
       "      <td>wells fargo dealer services</td>\n",
       "      <td>5250.0</td>\n",
       "      <td>3900.0</td>\n",
       "      <td>2015</td>\n",
       "      <td>2015-02-24</td>\n",
       "    </tr>\n",
       "    <tr>\n",
       "      <th>169664</th>\n",
       "      <td>Dodge</td>\n",
       "      <td>Avenger</td>\n",
       "      <td>Sedan</td>\n",
       "      <td>automatic</td>\n",
       "      <td>ga</td>\n",
       "      <td>34.0</td>\n",
       "      <td>57929.0</td>\n",
       "      <td>red</td>\n",
       "      <td>gray</td>\n",
       "      <td>the hertz corporation</td>\n",
       "      <td>9825.0</td>\n",
       "      <td>9400.0</td>\n",
       "      <td>2015</td>\n",
       "      <td>2015-02-02</td>\n",
       "    </tr>\n",
       "    <tr>\n",
       "      <th>446167</th>\n",
       "      <td>Dodge</td>\n",
       "      <td>Charger</td>\n",
       "      <td>sedan</td>\n",
       "      <td>automatic</td>\n",
       "      <td>nv</td>\n",
       "      <td>43.0</td>\n",
       "      <td>16163.0</td>\n",
       "      <td>black</td>\n",
       "      <td>black</td>\n",
       "      <td>sti remarketing</td>\n",
       "      <td>18600.0</td>\n",
       "      <td>17000.0</td>\n",
       "      <td>2015</td>\n",
       "      <td>2015-06-04</td>\n",
       "    </tr>\n",
       "    <tr>\n",
       "      <th>219692</th>\n",
       "      <td>Chevrolet</td>\n",
       "      <td>Monte Carlo</td>\n",
       "      <td>Coupe</td>\n",
       "      <td>automatic</td>\n",
       "      <td>nv</td>\n",
       "      <td>21.0</td>\n",
       "      <td>136114.0</td>\n",
       "      <td>—</td>\n",
       "      <td>black</td>\n",
       "      <td>credit acceptance corp/vrs/southfield</td>\n",
       "      <td>2250.0</td>\n",
       "      <td>2900.0</td>\n",
       "      <td>2015</td>\n",
       "      <td>2015-02-04</td>\n",
       "    </tr>\n",
       "  </tbody>\n",
       "</table>\n",
       "</div>"
      ],
      "text/plain": [
       "          Company        Model      Body Transmission State  Health  Distance   \n",
       "293022     Nissan       Altima     Sedan    automatic    tx    19.0  123850.0  \\\n",
       "154993      Dodge   Challenger     Coupe       manual    nv    44.0    3536.0   \n",
       "394907  Chevrolet    Avalanche  Crew Cab    automatic    nv    35.0  112565.0   \n",
       "308796   Infiniti      G Sedan   G Sedan    automatic    wa    43.0   22157.0   \n",
       "244987   Chrysler      Sebring     Sedan    automatic    oh     1.0  148551.0   \n",
       "134367    Hyundai       Sonata     Sedan    automatic    ca     2.0   23652.0   \n",
       "307053  Chevrolet      Equinox       SUV    automatic    mn    36.0  116477.0   \n",
       "169664      Dodge      Avenger     Sedan    automatic    ga    34.0   57929.0   \n",
       "446167      Dodge      Charger     sedan    automatic    nv    43.0   16163.0   \n",
       "219692  Chevrolet  Monte Carlo     Coupe    automatic    nv    21.0  136114.0   \n",
       "\n",
       "        Color Inside_color                                             Seller   \n",
       "293022   gray        black                                        supreme fcu  \\\n",
       "154993   blue        black                                jersey's auto sales   \n",
       "394907   gray         gray                                bul connections llc   \n",
       "308796  white        beige                                 nissan infiniti lt   \n",
       "244987   gray         gray                              dt credit corporation   \n",
       "134367   gray         gray  enterprise vehicle exchange / tra / rental / t...   \n",
       "307053   blue         gray                        wells fargo dealer services   \n",
       "169664    red         gray                              the hertz corporation   \n",
       "446167  black        black                                    sti remarketing   \n",
       "219692      —        black              credit acceptance corp/vrs/southfield   \n",
       "\n",
       "        Estimated_Price  Selling_price  Year        Date  \n",
       "293022           3750.0         5400.0  2015  2015-02-24  \n",
       "154993          25000.0        24750.0  2015  2015-01-22  \n",
       "394907           9550.0         8900.0  2015  2015-05-21  \n",
       "308796          21700.0        23500.0  2015  2015-03-03  \n",
       "244987           2625.0         3550.0  2015  2015-02-18  \n",
       "134367          13850.0         8600.0  2015  2015-01-19  \n",
       "307053           5250.0         3900.0  2015  2015-02-24  \n",
       "169664           9825.0         9400.0  2015  2015-02-02  \n",
       "446167          18600.0        17000.0  2015  2015-06-04  \n",
       "219692           2250.0         2900.0  2015  2015-02-04  "
      ]
     },
     "execution_count": 112,
     "metadata": {},
     "output_type": "execute_result"
    }
   ],
   "source": [
    "df.sample(10)"
   ]
  },
  {
   "cell_type": "code",
   "execution_count": 113,
   "id": "aa49dc32",
   "metadata": {},
   "outputs": [
    {
     "data": {
      "text/plain": [
       "<Axes: xlabel='Health', ylabel='Density'>"
      ]
     },
     "execution_count": 113,
     "metadata": {},
     "output_type": "execute_result"
    },
    {
     "data": {
      "image/png": "[encoded data removed]",
      "text/plain": [
       "<Figure size 640x480 with 1 Axes>"
      ]
     },
     "metadata": {},
     "output_type": "display_data"
    }
   ],
   "source": [
    "sns.kdeplot(df['Health'],fill=True)"
   ]
  },
  {
   "cell_type": "code",
   "execution_count": 123,
   "id": "afd5d801",
   "metadata": {},
   "outputs": [
    {
     "data": {
      "text/html": [
       "<div>\n",
       "<style scoped>\n",
       "    .dataframe tbody tr th:only-of-type {\n",
       "        vertical-align: middle;\n",
       "    }\n",
       "\n",
       "    .dataframe tbody tr th {\n",
       "        vertical-align: top;\n",
       "    }\n",
       "\n",
       "    .dataframe thead th {\n",
       "        text-align: right;\n",
       "    }\n",
       "</style>\n",
       "<table border=\"1\" class=\"dataframe\">\n",
       "  <thead>\n",
       "    <tr style=\"text-align: right;\">\n",
       "      <th></th>\n",
       "      <th>Selling_price</th>\n",
       "    </tr>\n",
       "    <tr>\n",
       "      <th>Color</th>\n",
       "      <th></th>\n",
       "    </tr>\n",
       "  </thead>\n",
       "  <tbody>\n",
       "    <tr>\n",
       "      <th>black</th>\n",
       "      <td>1.863651e+09</td>\n",
       "    </tr>\n",
       "    <tr>\n",
       "      <th>white</th>\n",
       "      <td>1.337860e+09</td>\n",
       "    </tr>\n",
       "    <tr>\n",
       "      <th>gray</th>\n",
       "      <td>9.947343e+08</td>\n",
       "    </tr>\n",
       "    <tr>\n",
       "      <th>silver</th>\n",
       "      <td>8.540334e+08</td>\n",
       "    </tr>\n",
       "    <tr>\n",
       "      <th>blue</th>\n",
       "      <td>5.031797e+08</td>\n",
       "    </tr>\n",
       "    <tr>\n",
       "      <th>red</th>\n",
       "      <td>4.861349e+08</td>\n",
       "    </tr>\n",
       "    <tr>\n",
       "      <th>burgundy</th>\n",
       "      <td>9.344322e+07</td>\n",
       "    </tr>\n",
       "    <tr>\n",
       "      <th>brown</th>\n",
       "      <td>8.803479e+07</td>\n",
       "    </tr>\n",
       "    <tr>\n",
       "      <th>gold</th>\n",
       "      <td>8.405484e+07</td>\n",
       "    </tr>\n",
       "    <tr>\n",
       "      <th>green</th>\n",
       "      <td>8.262219e+07</td>\n",
       "    </tr>\n",
       "  </tbody>\n",
       "</table>\n",
       "</div>"
      ],
      "text/plain": [
       "          Selling_price\n",
       "Color                  \n",
       "black      1.863651e+09\n",
       "white      1.337860e+09\n",
       "gray       9.947343e+08\n",
       "silver     8.540334e+08\n",
       "blue       5.031797e+08\n",
       "red        4.861349e+08\n",
       "burgundy   9.344322e+07\n",
       "brown      8.803479e+07\n",
       "gold       8.405484e+07\n",
       "green      8.262219e+07"
      ]
     },
     "execution_count": 123,
     "metadata": {},
     "output_type": "execute_result"
    }
   ],
   "source": [
    "y=pd.pivot_table(data=df,values='Selling_price',index='Color',aggfunc='sum').sort_values(by='Selling_price',ascending=False).iloc[:10]\n",
    "y"
   ]
  },
  {
   "cell_type": "code",
   "execution_count": 124,
   "id": "d68772d9",
   "metadata": {},
   "outputs": [
    {
     "data": {
      "text/plain": [
       "<Axes: xlabel='Selling_price', ylabel='Color'>"
      ]
     },
     "execution_count": 124,
     "metadata": {},
     "output_type": "execute_result"
    },
    {
     "data": {
      "image/png": "[encoded data removed]",
      "text/plain": [
       "<Figure size 1000x600 with 1 Axes>"
      ]
     },
     "metadata": {},
     "output_type": "display_data"
    }
   ],
   "source": [
    "fig,ax=plt.subplots(figsize=(10,6))\n",
    "sns.barplot(x=y['Selling_price'],y=y.index,orient='h',palette='magma')"
   ]
  },
  {
   "cell_type": "code",
   "execution_count": 116,
   "id": "faa031c3",
   "metadata": {},
   "outputs": [
    {
     "data": {
      "text/plain": [
       "array(['white', 'gray', 'black', 'red', 'silver', 'blue', 'brown',\n",
       "       'beige', 'purple', 'burgundy', '—', 'gold', 'yellow', 'green',\n",
       "       'charcoal', 'orange', 'off-white', 'turquoise', 'pink', 'lime'],\n",
       "      dtype=object)"
      ]
     },
     "execution_count": 116,
     "metadata": {},
     "output_type": "execute_result"
    }
   ],
   "source": [
    "df['Color'].unique()"
   ]
  },
  {
   "cell_type": "code",
   "execution_count": 122,
   "id": "fe91301b",
   "metadata": {},
   "outputs": [],
   "source": [
    "df['Color']=df['Color'].replace('—',np.random.choice(['black','white']))"
   ]
  },
  {
   "cell_type": "code",
   "execution_count": 118,
   "id": "3243b9d6",
   "metadata": {},
   "outputs": [
    {
     "data": {
      "text/html": [
       "<div>\n",
       "<style scoped>\n",
       "    .dataframe tbody tr th:only-of-type {\n",
       "        vertical-align: middle;\n",
       "    }\n",
       "\n",
       "    .dataframe tbody tr th {\n",
       "        vertical-align: top;\n",
       "    }\n",
       "\n",
       "    .dataframe thead th {\n",
       "        text-align: right;\n",
       "    }\n",
       "</style>\n",
       "<table border=\"1\" class=\"dataframe\">\n",
       "  <thead>\n",
       "    <tr style=\"text-align: right;\">\n",
       "      <th></th>\n",
       "      <th>Selling_price</th>\n",
       "    </tr>\n",
       "    <tr>\n",
       "      <th>State</th>\n",
       "      <th></th>\n",
       "    </tr>\n",
       "  </thead>\n",
       "  <tbody>\n",
       "    <tr>\n",
       "      <th>fl</th>\n",
       "      <td>1.089222e+09</td>\n",
       "    </tr>\n",
       "    <tr>\n",
       "      <th>ca</th>\n",
       "      <td>9.967274e+08</td>\n",
       "    </tr>\n",
       "    <tr>\n",
       "      <th>tx</th>\n",
       "      <td>5.754366e+08</td>\n",
       "    </tr>\n",
       "    <tr>\n",
       "      <th>ga</th>\n",
       "      <td>4.002978e+08</td>\n",
       "    </tr>\n",
       "    <tr>\n",
       "      <th>pa</th>\n",
       "      <td>3.415355e+08</td>\n",
       "    </tr>\n",
       "    <tr>\n",
       "      <th>il</th>\n",
       "      <td>3.364520e+08</td>\n",
       "    </tr>\n",
       "    <tr>\n",
       "      <th>tn</th>\n",
       "      <td>3.344309e+08</td>\n",
       "    </tr>\n",
       "    <tr>\n",
       "      <th>nj</th>\n",
       "      <td>3.167138e+08</td>\n",
       "    </tr>\n",
       "    <tr>\n",
       "      <th>oh</th>\n",
       "      <td>2.952765e+08</td>\n",
       "    </tr>\n",
       "    <tr>\n",
       "      <th>mo</th>\n",
       "      <td>2.257081e+08</td>\n",
       "    </tr>\n",
       "  </tbody>\n",
       "</table>\n",
       "</div>"
      ],
      "text/plain": [
       "       Selling_price\n",
       "State               \n",
       "fl      1.089222e+09\n",
       "ca      9.967274e+08\n",
       "tx      5.754366e+08\n",
       "ga      4.002978e+08\n",
       "pa      3.415355e+08\n",
       "il      3.364520e+08\n",
       "tn      3.344309e+08\n",
       "nj      3.167138e+08\n",
       "oh      2.952765e+08\n",
       "mo      2.257081e+08"
      ]
     },
     "execution_count": 118,
     "metadata": {},
     "output_type": "execute_result"
    }
   ],
   "source": [
    "z=pd.pivot_table(data=df,index='State',values='Selling_price',aggfunc='sum').sort_values(by='Selling_price',ascending=False).iloc[:10]\n",
    "z"
   ]
  },
  {
   "cell_type": "code",
   "execution_count": 119,
   "id": "a01a1c76",
   "metadata": {},
   "outputs": [
    {
     "data": {
      "text/plain": [
       "<Axes: xlabel='Selling_price', ylabel='State'>"
      ]
     },
     "execution_count": 119,
     "metadata": {},
     "output_type": "execute_result"
    },
    {
     "data": {
      "image/png": "[encoded data removed]",
      "text/plain": [
       "<Figure size 640x480 with 1 Axes>"
      ]
     },
     "metadata": {},
     "output_type": "display_data"
    }
   ],
   "source": [
    "sns.barplot(x=z['Selling_price'],y=z.index,orient='h',palette='viridis')"
   ]
  },
  {
   "cell_type": "code",
   "execution_count": 120,
   "id": "67da6359",
   "metadata": {},
   "outputs": [
    {
     "data": {
      "text/plain": [
       "<Axes: xlabel='count', ylabel='State'>"
      ]
     },
     "execution_count": 120,
     "metadata": {},
     "output_type": "execute_result"
    },
    {
     "data": {
      "image/png": "[encoded data removed]",
      "text/plain": [
       "<Figure size 1000x600 with 1 Axes>"
      ]
     },
     "metadata": {},
     "output_type": "display_data"
    }
   ],
   "source": [
    "fig,ax=plt.subplots(figsize=(10,6))\n",
    "sns.countplot(data=df,y='State',palette='crest')"
   ]
  },
  {
   "cell_type": "code",
   "execution_count": 121,
   "id": "8a3d47ee",
   "metadata": {},
   "outputs": [
    {
     "data": {
      "text/plain": [
       "<Axes: xlabel='count', ylabel='Transmission'>"
      ]
     },
     "execution_count": 121,
     "metadata": {},
     "output_type": "execute_result"
    },
    {
     "data": {
      "image/png": "[encoded data removed]",
      "text/plain": [
       "<Figure size 1000x600 with 1 Axes>"
      ]
     },
     "metadata": {},
     "output_type": "display_data"
    }
   ],
   "source": [
    "fig,ax=plt.subplots(figsize=(10,6))\n",
    "sns.countplot(data=df,y='Transmission',palette='crest')"
   ]
  },
  {
   "cell_type": "code",
   "execution_count": 132,
   "id": "08215282",
   "metadata": {},
   "outputs": [
    {
     "data": {
      "text/html": [
       "<div>\n",
       "<style scoped>\n",
       "    .dataframe tbody tr th:only-of-type {\n",
       "        vertical-align: middle;\n",
       "    }\n",
       "\n",
       "    .dataframe tbody tr th {\n",
       "        vertical-align: top;\n",
       "    }\n",
       "\n",
       "    .dataframe thead th {\n",
       "        text-align: right;\n",
       "    }\n",
       "</style>\n",
       "<table border=\"1\" class=\"dataframe\">\n",
       "  <thead>\n",
       "    <tr style=\"text-align: right;\">\n",
       "      <th></th>\n",
       "      <th>Selling_price</th>\n",
       "    </tr>\n",
       "    <tr>\n",
       "      <th>Transmission</th>\n",
       "      <th></th>\n",
       "    </tr>\n",
       "  </thead>\n",
       "  <tbody>\n",
       "    <tr>\n",
       "      <th>automatic</th>\n",
       "      <td>6.352928e+09</td>\n",
       "    </tr>\n",
       "    <tr>\n",
       "      <th>manual</th>\n",
       "      <td>1.885958e+08</td>\n",
       "    </tr>\n",
       "  </tbody>\n",
       "</table>\n",
       "</div>"
      ],
      "text/plain": [
       "              Selling_price\n",
       "Transmission               \n",
       "automatic      6.352928e+09\n",
       "manual         1.885958e+08"
      ]
     },
     "execution_count": 132,
     "metadata": {},
     "output_type": "execute_result"
    }
   ],
   "source": [
    "v=df.groupby(['Transmission'])[['Selling_price']].sum().sort_values(by='Selling_price',ascending=False)\n",
    "v"
   ]
  },
  {
   "cell_type": "code",
   "execution_count": 144,
   "id": "7b0bdb95",
   "metadata": {},
   "outputs": [
    {
     "data": {
      "text/plain": [
       "<Axes: xlabel='Transmission', ylabel='Selling_price'>"
      ]
     },
     "execution_count": 144,
     "metadata": {},
     "output_type": "execute_result"
    },
    {
     "data": {
      "image/png": "[encoded data removed]",
      "text/plain": [
       "<Figure size 640x480 with 1 Axes>"
      ]
     },
     "metadata": {},
     "output_type": "display_data"
    }
   ],
   "source": [
    "sns.barplot(x=v.index,y=v['Selling_price'])"
   ]
  },
  {
   "cell_type": "code",
   "execution_count": 146,
   "id": "86b26327",
   "metadata": {},
   "outputs": [
    {
     "data": {
      "text/html": [
       "<div>\n",
       "<style scoped>\n",
       "    .dataframe tbody tr th:only-of-type {\n",
       "        vertical-align: middle;\n",
       "    }\n",
       "\n",
       "    .dataframe tbody tr th {\n",
       "        vertical-align: top;\n",
       "    }\n",
       "\n",
       "    .dataframe thead th {\n",
       "        text-align: right;\n",
       "    }\n",
       "</style>\n",
       "<table border=\"1\" class=\"dataframe\">\n",
       "  <thead>\n",
       "    <tr style=\"text-align: right;\">\n",
       "      <th></th>\n",
       "      <th>Company</th>\n",
       "      <th>Model</th>\n",
       "      <th>Body</th>\n",
       "      <th>Transmission</th>\n",
       "      <th>State</th>\n",
       "      <th>Health</th>\n",
       "      <th>Distance</th>\n",
       "      <th>Color</th>\n",
       "      <th>Inside_color</th>\n",
       "      <th>Seller</th>\n",
       "      <th>Estimated_Price</th>\n",
       "      <th>Selling_price</th>\n",
       "      <th>Year</th>\n",
       "      <th>Date</th>\n",
       "    </tr>\n",
       "  </thead>\n",
       "  <tbody>\n",
       "    <tr>\n",
       "      <th>76953</th>\n",
       "      <td>Chevrolet</td>\n",
       "      <td>Silverado 1500</td>\n",
       "      <td>Extended Cab</td>\n",
       "      <td>automatic</td>\n",
       "      <td>pa</td>\n",
       "      <td>46.0</td>\n",
       "      <td>11494.0</td>\n",
       "      <td>black</td>\n",
       "      <td>black</td>\n",
       "      <td>meridian remarketing</td>\n",
       "      <td>24600.0</td>\n",
       "      <td>22900.0</td>\n",
       "      <td>2015</td>\n",
       "      <td>2015-01-13</td>\n",
       "    </tr>\n",
       "    <tr>\n",
       "      <th>350222</th>\n",
       "      <td>Kia</td>\n",
       "      <td>Sedona</td>\n",
       "      <td>Minivan</td>\n",
       "      <td>automatic</td>\n",
       "      <td>fl</td>\n",
       "      <td>35.0</td>\n",
       "      <td>36065.0</td>\n",
       "      <td>blue</td>\n",
       "      <td>gray</td>\n",
       "      <td>ez rent a car inc</td>\n",
       "      <td>13300.0</td>\n",
       "      <td>14000.0</td>\n",
       "      <td>2015</td>\n",
       "      <td>2015-03-09</td>\n",
       "    </tr>\n",
       "    <tr>\n",
       "      <th>358564</th>\n",
       "      <td>Kia</td>\n",
       "      <td>Sorento</td>\n",
       "      <td>SUV</td>\n",
       "      <td>automatic</td>\n",
       "      <td>fl</td>\n",
       "      <td>2.0</td>\n",
       "      <td>35771.0</td>\n",
       "      <td>blue</td>\n",
       "      <td>gray</td>\n",
       "      <td>kia motors finance</td>\n",
       "      <td>13500.0</td>\n",
       "      <td>12700.0</td>\n",
       "      <td>2015</td>\n",
       "      <td>2015-06-15</td>\n",
       "    </tr>\n",
       "    <tr>\n",
       "      <th>238497</th>\n",
       "      <td>Ford</td>\n",
       "      <td>Fusion</td>\n",
       "      <td>Sedan</td>\n",
       "      <td>automatic</td>\n",
       "      <td>wi</td>\n",
       "      <td>19.0</td>\n",
       "      <td>23217.0</td>\n",
       "      <td>silver</td>\n",
       "      <td>black</td>\n",
       "      <td>lease plan usa</td>\n",
       "      <td>15550.0</td>\n",
       "      <td>12800.0</td>\n",
       "      <td>2015</td>\n",
       "      <td>2015-02-10</td>\n",
       "    </tr>\n",
       "    <tr>\n",
       "      <th>238371</th>\n",
       "      <td>Mazda</td>\n",
       "      <td>MX-5 Miata</td>\n",
       "      <td>Convertible</td>\n",
       "      <td>manual</td>\n",
       "      <td>nc</td>\n",
       "      <td>36.0</td>\n",
       "      <td>133981.0</td>\n",
       "      <td>black</td>\n",
       "      <td>black</td>\n",
       "      <td>primeritus remarketing/ias</td>\n",
       "      <td>2750.0</td>\n",
       "      <td>2600.0</td>\n",
       "      <td>2015</td>\n",
       "      <td>2015-02-08</td>\n",
       "    </tr>\n",
       "  </tbody>\n",
       "</table>\n",
       "</div>"
      ],
      "text/plain": [
       "          Company           Model          Body Transmission State  Health   \n",
       "76953   Chevrolet  Silverado 1500  Extended Cab    automatic    pa    46.0  \\\n",
       "350222        Kia          Sedona       Minivan    automatic    fl    35.0   \n",
       "358564        Kia         Sorento           SUV    automatic    fl     2.0   \n",
       "238497       Ford          Fusion         Sedan    automatic    wi    19.0   \n",
       "238371      Mazda      MX-5 Miata   Convertible       manual    nc    36.0   \n",
       "\n",
       "        Distance   Color Inside_color                      Seller   \n",
       "76953    11494.0   black        black        meridian remarketing  \\\n",
       "350222   36065.0    blue         gray           ez rent a car inc   \n",
       "358564   35771.0    blue         gray          kia motors finance   \n",
       "238497   23217.0  silver        black              lease plan usa   \n",
       "238371  133981.0   black        black  primeritus remarketing/ias   \n",
       "\n",
       "        Estimated_Price  Selling_price  Year        Date  \n",
       "76953           24600.0        22900.0  2015  2015-01-13  \n",
       "350222          13300.0        14000.0  2015  2015-03-09  \n",
       "358564          13500.0        12700.0  2015  2015-06-15  \n",
       "238497          15550.0        12800.0  2015  2015-02-10  \n",
       "238371           2750.0         2600.0  2015  2015-02-08  "
      ]
     },
     "execution_count": 146,
     "metadata": {},
     "output_type": "execute_result"
    }
   ],
   "source": [
    "df.sample(5)"
   ]
  },
  {
   "cell_type": "code",
   "execution_count": 166,
   "id": "92ba73d4",
   "metadata": {},
   "outputs": [
    {
     "data": {
      "text/html": [
       "<div>\n",
       "<style scoped>\n",
       "    .dataframe tbody tr th:only-of-type {\n",
       "        vertical-align: middle;\n",
       "    }\n",
       "\n",
       "    .dataframe tbody tr th {\n",
       "        vertical-align: top;\n",
       "    }\n",
       "\n",
       "    .dataframe thead th {\n",
       "        text-align: right;\n",
       "    }\n",
       "</style>\n",
       "<table border=\"1\" class=\"dataframe\">\n",
       "  <thead>\n",
       "    <tr style=\"text-align: right;\">\n",
       "      <th></th>\n",
       "      <th>Selling_price</th>\n",
       "    </tr>\n",
       "    <tr>\n",
       "      <th>Body</th>\n",
       "      <th></th>\n",
       "    </tr>\n",
       "  </thead>\n",
       "  <tbody>\n",
       "    <tr>\n",
       "      <th>Sedan</th>\n",
       "      <td>2.481799e+09</td>\n",
       "    </tr>\n",
       "    <tr>\n",
       "      <th>Suv</th>\n",
       "      <td>1.978038e+09</td>\n",
       "    </tr>\n",
       "    <tr>\n",
       "      <th>Crew Cab</th>\n",
       "      <td>3.153381e+08</td>\n",
       "    </tr>\n",
       "    <tr>\n",
       "      <th>Coupe</th>\n",
       "      <td>2.567550e+08</td>\n",
       "    </tr>\n",
       "    <tr>\n",
       "      <th>Minivan</th>\n",
       "      <td>2.515663e+08</td>\n",
       "    </tr>\n",
       "    <tr>\n",
       "      <th>Hatchback</th>\n",
       "      <td>2.445783e+08</td>\n",
       "    </tr>\n",
       "    <tr>\n",
       "      <th>Supercrew</th>\n",
       "      <td>1.733412e+08</td>\n",
       "    </tr>\n",
       "    <tr>\n",
       "      <th>Convertible</th>\n",
       "      <td>1.682955e+08</td>\n",
       "    </tr>\n",
       "    <tr>\n",
       "      <th>Wagon</th>\n",
       "      <td>1.453440e+08</td>\n",
       "    </tr>\n",
       "    <tr>\n",
       "      <th>G Sedan</th>\n",
       "      <td>1.385775e+08</td>\n",
       "    </tr>\n",
       "  </tbody>\n",
       "</table>\n",
       "</div>"
      ],
      "text/plain": [
       "             Selling_price\n",
       "Body                      \n",
       "Sedan         2.481799e+09\n",
       "Suv           1.978038e+09\n",
       "Crew Cab      3.153381e+08\n",
       "Coupe         2.567550e+08\n",
       "Minivan       2.515663e+08\n",
       "Hatchback     2.445783e+08\n",
       "Supercrew     1.733412e+08\n",
       "Convertible   1.682955e+08\n",
       "Wagon         1.453440e+08\n",
       "G Sedan       1.385775e+08"
      ]
     },
     "execution_count": 166,
     "metadata": {},
     "output_type": "execute_result"
    }
   ],
   "source": [
    "Body=pd.pivot_table(data=df,index='Body',values='Selling_price',aggfunc='sum').sort_values(by='Selling_price',ascending=False).iloc[:10]\n",
    "Body"
   ]
  },
  {
   "cell_type": "code",
   "execution_count": 165,
   "id": "7168850d",
   "metadata": {},
   "outputs": [],
   "source": [
    "df['Body']=df['Body'].str.title()"
   ]
  },
  {
   "cell_type": "code",
   "execution_count": 167,
   "id": "f033aba9",
   "metadata": {},
   "outputs": [
    {
     "data": {
      "text/plain": [
       "<Axes: xlabel='Body', ylabel='Selling_price'>"
      ]
     },
     "execution_count": 167,
     "metadata": {},
     "output_type": "execute_result"
    },
    {
     "data": {
      "image/png": "[encoded data removed]",
      "text/plain": [
       "<Figure size 1000x600 with 1 Axes>"
      ]
     },
     "metadata": {},
     "output_type": "display_data"
    }
   ],
   "source": [
    "fig,ax =plt.subplots(figsize=(10,6))\n",
    "sns.barplot(x=Body.index,y=Body['Selling_price'],palette='hls')"
   ]
  },
  {
   "cell_type": "code",
   "execution_count": null,
   "id": "5d26c646",
   "metadata": {},
   "outputs": [],
   "source": []
  }
 ],
 "metadata": {
  "kernelspec": {
   "display_name": "Python 3 (ipykernel)",
   "language": "python",
   "name": "python3"
  },
  "language_info": {
   "codemirror_mode": {
    "name": "ipython",
    "version": 3
   },
   "file_extension": ".py",
   "mimetype": "text/x-python",
   "name": "python",
   "nbconvert_exporter": "python",
   "pygments_lexer": "ipython3",
   "version": "3.11.2"
  }
 },
 "nbformat": 4,
 "nbformat_minor": 5
}
